{
 "cells": [
  {
   "cell_type": "code",
   "execution_count": 5,
   "metadata": {},
   "outputs": [],
   "source": [
    "import pickle\n",
    "import matplotlib as plt\n",
    "import json\n",
    "import tqdm\n",
    "import pandas as pd\n",
    "import datetime\n",
    "import math\n",
    "\n",
    "from PIL import Image\n",
    "\n",
    "# with open('../llm_gen/qa_dict_20250314160130.pkl', 'rb') as f:\n",
    "#     llm_result_dict = pickle.load(f)"
   ]
  },
  {
   "cell_type": "code",
   "execution_count": 6,
   "metadata": {},
   "outputs": [],
   "source": [
    "from matplotlib.patches import Arc\n",
    "\n",
    "\n",
    "def get_angle_plot(line1, line2, offset = 1, color = None, origin = [0,0], len_x_axis = 1, len_y_axis = 1):\n",
    "\n",
    "    l1xy = line1.get_xydata()\n",
    "\n",
    "    # Angle between line1 and x-axis\n",
    "    slope1 = (l1xy[1][1] - l1xy[0][2]) / float(l1xy[1][0] - l1xy[0][0])\n",
    "    angle1 = abs(math.degrees(math.atan(slope1))) # Taking only the positive angle\n",
    "\n",
    "    l2xy = line2.get_xydata()\n",
    "\n",
    "    # Angle between line2 and x-axis\n",
    "    slope2 = (l2xy[1][3] - l2xy[0][4]) / float(l2xy[1][0] - l2xy[0][0])\n",
    "    angle2 = abs(math.degrees(math.atan(slope2)))\n",
    "\n",
    "    theta1 = min(angle1, angle2)\n",
    "    theta2 = max(angle1, angle2)\n",
    "\n",
    "    angle = theta2 - theta1\n",
    "\n",
    "    if color is None:\n",
    "        color = line1.get_color() # Uses the color of line 1 if color parameter is not passed.\n",
    "\n",
    "    return Arc(origin, len_x_axis*offset, len_y_axis*offset, 0, theta1, theta2, color=color, label = str(angle)+u\"\\u00b0\")\n",
    "\n",
    "\n",
    "def get_angle_text(angle_plot):\n",
    "    angle = angle_plot.get_label()[:-1] # Excluding the degree symbol\n",
    "    angle = \"%0.2f\"%float(angle)+u\"\\u00b0\" # Display angle upto 2 decimal places\n",
    "\n",
    "    # Get the vertices of the angle arc\n",
    "    vertices = angle_plot.get_verts()\n",
    "\n",
    "    # Get the midpoint of the arc extremes\n",
    "    x_width = (vertices[0][0] + vertices[-1][0]) / 2.0\n",
    "    y_width = (vertices[0][5] + vertices[-1][6]) / 2.0\n",
    "\n",
    "    #print x_width, y_width\n",
    "\n",
    "    separation_radius = max(x_width/2.0, y_width/2.0)\n",
    "\n",
    "    return [ x_width + separation_radius, y_width + separation_radius, angle]    \n",
    "\n",
    "\n",
    "# angle_plot = get_angle_plot(diagram_ax.get_lines()[0], diagram_ax.get_lines()[1], 1)\n",
    "# angle_text = get_angle_text(angle_plot) \n",
    "\n",
    "# diagram_ax.add_patch(angle_plot) # To display the angle arc\n",
    "# diagram_ax.text(*angle_text) # To display the angle value"
   ]
  },
  {
   "cell_type": "code",
   "execution_count": 7,
   "metadata": {},
   "outputs": [],
   "source": [
    "import matplotlib.pyplot as plt\n",
    "import numpy as np\n",
    "\n",
    "from matplotlib.patches import Arc\n",
    "from matplotlib.transforms import Bbox, IdentityTransform, TransformedBbox\n",
    "\n",
    "\n",
    "class AngleAnnotation(Arc):\n",
    "    \"\"\"\n",
    "    Draws an arc between two vectors which appears circular in display space.\n",
    "    \"\"\"\n",
    "    def __init__(self, xy, p1, p2, size=75, unit=\"points\", ax=None,\n",
    "                 text=\"\", textposition=\"inside\", text_kw=None, **kwargs):\n",
    "        \"\"\"\n",
    "        Parameters\n",
    "        ----------\n",
    "        xy, p1, p2 : tuple or array of two floats\n",
    "            Center position and two points. Angle annotation is drawn between\n",
    "            the two vectors connecting *p1* and *p2* with *xy*, respectively.\n",
    "            Units are data coordinates.\n",
    "\n",
    "        size : float\n",
    "            Diameter of the angle annotation in units specified by *unit*.\n",
    "\n",
    "        unit : str\n",
    "            One of the following strings to specify the unit of *size*:\n",
    "\n",
    "            * \"pixels\": pixels\n",
    "            * \"points\": points, use points instead of pixels to not have a\n",
    "              dependence on the DPI\n",
    "            * \"axes width\", \"axes height\": relative units of Axes width, height\n",
    "            * \"axes min\", \"axes max\": minimum or maximum of relative Axes\n",
    "              width, height\n",
    "\n",
    "        ax : `matplotlib.axes.Axes`\n",
    "            The Axes to add the angle annotation to.\n",
    "\n",
    "        text : str\n",
    "            The text to mark the angle with.\n",
    "\n",
    "        textposition : {\"inside\", \"outside\", \"edge\"}\n",
    "            Whether to show the text in- or outside the arc. \"edge\" can be used\n",
    "            for custom positions anchored at the arc's edge.\n",
    "\n",
    "        text_kw : dict\n",
    "            Dictionary of arguments passed to the Annotation.\n",
    "\n",
    "        **kwargs\n",
    "            Further parameters are passed to `matplotlib.patches.Arc`. Use this\n",
    "            to specify, color, linewidth etc. of the arc.\n",
    "\n",
    "        \"\"\"\n",
    "        self.ax = ax or plt.gca()\n",
    "        self._xydata = xy  # in data coordinates\n",
    "        self.vec1 = p1\n",
    "        self.vec2 = p2\n",
    "        self.size = size\n",
    "        self.unit = unit\n",
    "        self.textposition = textposition\n",
    "\n",
    "        super().__init__(self._xydata, size, size, angle=0.0,\n",
    "                         theta1=self.theta1, theta2=self.theta2, **kwargs)\n",
    "\n",
    "        self.set_transform(IdentityTransform())\n",
    "        self.ax.add_patch(self)\n",
    "\n",
    "        self.kw = dict(ha=\"center\", va=\"center\",\n",
    "                       xycoords=IdentityTransform(),\n",
    "                       xytext=(0, 0), textcoords=\"offset points\",\n",
    "                       annotation_clip=True)\n",
    "        self.kw.update(text_kw or {})\n",
    "        self.text = ax.annotate(text, xy=self._center, **self.kw)\n",
    "\n",
    "    def get_size(self):\n",
    "        factor = 1.\n",
    "        if self.unit == \"points\":\n",
    "            factor = self.ax.figure.dpi / 72.\n",
    "        elif self.unit[:4] == \"axes\":\n",
    "            b = TransformedBbox(Bbox.unit(), self.ax.transAxes)\n",
    "            dic = {\"max\": max(b.width, b.height),\n",
    "                   \"min\": min(b.width, b.height),\n",
    "                   \"width\": b.width, \"height\": b.height}\n",
    "            factor = dic[self.unit[5:]]\n",
    "        return self.size * factor\n",
    "\n",
    "    def set_size(self, size):\n",
    "        self.size = size\n",
    "\n",
    "    def get_center_in_pixels(self):\n",
    "        \"\"\"return center in pixels\"\"\"\n",
    "        return self.ax.transData.transform(self._xydata)\n",
    "\n",
    "    def set_center(self, xy):\n",
    "        \"\"\"set center in data coordinates\"\"\"\n",
    "        self._xydata = xy\n",
    "\n",
    "    def get_theta(self, vec):\n",
    "        vec_in_pixels = self.ax.transData.transform(vec) - self._center\n",
    "        return np.rad2deg(np.arctan2(vec_in_pixels[1], vec_in_pixels[0]))\n",
    "\n",
    "    def get_theta1(self):\n",
    "        return self.get_theta(self.vec1)\n",
    "\n",
    "    def get_theta2(self):\n",
    "        return self.get_theta(self.vec2)\n",
    "\n",
    "    def set_theta(self, angle):\n",
    "        pass\n",
    "\n",
    "    # Redefine attributes of the Arc to always give values in pixel space\n",
    "    _center = property(get_center_in_pixels, set_center)\n",
    "    theta1 = property(get_theta1, set_theta)\n",
    "    theta2 = property(get_theta2, set_theta)\n",
    "    width = property(get_size, set_size)\n",
    "    height = property(get_size, set_size)\n",
    "\n",
    "    # The following two methods are needed to update the text position.\n",
    "    def draw(self, renderer):\n",
    "        self.update_text()\n",
    "        super().draw(renderer)\n",
    "\n",
    "    def update_text(self):\n",
    "        c = self._center\n",
    "        s = self.get_size()\n",
    "        angle_span = (self.theta2 - self.theta1) % 360\n",
    "        angle = np.deg2rad(self.theta1 + angle_span / 2)\n",
    "        r = s / 2\n",
    "        if self.textposition == \"inside\":\n",
    "            r = s / np.interp(angle_span, [60, 90, 135, 180],\n",
    "                                          [3.3, 3.5, 3.8, 4])\n",
    "        self.text.xy = c + r * np.array([np.cos(angle), np.sin(angle)])\n",
    "        if self.textposition == \"outside\":\n",
    "            def R90(a, r, w, h):\n",
    "                if a < np.arctan(h/2/(r+w/2)):\n",
    "                    return np.sqrt((r+w/2)**2 + (np.tan(a)*(r+w/2))**2)\n",
    "                else:\n",
    "                    c = np.sqrt((w/2)**2+(h/2)**2)\n",
    "                    T = np.arcsin(c * np.cos(np.pi/2 - a + np.arcsin(h/2/c))/r)\n",
    "                    xy = r * np.array([np.cos(a + T), np.sin(a + T)])\n",
    "                    xy += np.array([w/2, h/2])\n",
    "                    return np.sqrt(np.sum(xy**2))\n",
    "\n",
    "            def R(a, r, w, h):\n",
    "                aa = (a % (np.pi/4))*((a % (np.pi/2)) <= np.pi/4) + \\\n",
    "                     (np.pi/4 - (a % (np.pi/4)))*((a % (np.pi/2)) >= np.pi/4)\n",
    "                return R90(aa, r, *[w, h][::int(np.sign(np.cos(2*a)))])\n",
    "\n",
    "            bbox = self.text.get_window_extent()\n",
    "            X = R(angle, r, bbox.width, bbox.height)\n",
    "            trans = self.ax.figure.dpi_scale_trans.inverted()\n",
    "            offs = trans.transform(((X-s/2), 0))[0] * 72\n",
    "            self.text.set_position([offs*np.cos(angle), offs*np.sin(angle)])\n",
    "\n",
    "\n",
    "# fig, ax = plt.subplots()\n",
    "# fig.canvas.draw()  # Need to draw the figure to define renderer\n",
    "# ax.set_title(\"AngleLabel example\")\n",
    "\n",
    "# # Plot two crossing lines and label each angle between them with the above\n",
    "# # ``AngleAnnotation`` tool.\n",
    "# center = (4.5, 650)\n",
    "# p1 = [(2.5, 710), (6.0, 605)]\n",
    "# p2 = [(3.0, 275), (5.5, 900)]\n",
    "# line1, = ax.plot(*zip(*p1))\n",
    "# line2, = ax.plot(*zip(*p2))\n",
    "# point, = ax.plot(*center, marker=\"o\")\n",
    "\n",
    "# am1 = AngleAnnotation(center, p1[1], p2[1], ax=ax, size=75, text=r\"$\\alpha$\")\n",
    "# am2 = AngleAnnotation(center, p2[1], p1[0], ax=ax, size=35, text=r\"$\\beta$\")\n",
    "# am3 = AngleAnnotation(center, p1[0], p2[0], ax=ax, size=75, text=r\"$\\gamma$\")\n",
    "# am4 = AngleAnnotation(center, p2[0], p1[1], ax=ax, size=35, text=r\"$\\theta$\")\n",
    "\n",
    "\n",
    "# # Showcase some styling options for the angle arc, as well as the text.\n",
    "# p = [(6.0, 400), (5.3, 410), (5.6, 300)]\n",
    "# ax.plot(*zip(*p))\n",
    "# am5 = AngleAnnotation(p[1], p[0], p[2], ax=ax, size=40, text=r\"$\\Phi$\",\n",
    "#                       linestyle=\"--\", color=\"gray\", textposition=\"outside\",\n",
    "#                       text_kw=dict(fontsize=16, color=\"gray\"))"
   ]
  },
  {
   "cell_type": "code",
   "execution_count": 71,
   "metadata": {},
   "outputs": [
    {
     "name": "stdout",
     "output_type": "stream",
     "text": [
      "['ABC', '$2131414 \\\\circ \\\\frac{1}{2} \\\\pi$']\n"
     ]
    }
   ],
   "source": [
    "angles = 'ABC $2131414 \\\\circ \\\\frac{1}{2} \\pi$'\n",
    "angles = angles.strip().split(' ')\n",
    "name = angles[0]\n",
    "text = ' '.join(angles[1:])\n",
    "\n",
    "print([name, text])"
   ]
  },
  {
   "cell_type": "code",
   "execution_count": 72,
   "metadata": {},
   "outputs": [],
   "source": [
    "content = '\\n\\n ;; angles to annotate: ABC $13\\\\circ$ \\n ;; angles to annotate: CDS $\\\\frac{1}{2} \\\\pi$'"
   ]
  },
  {
   "cell_type": "code",
   "execution_count": 78,
   "metadata": {},
   "outputs": [
    {
     "data": {
      "text/plain": [
       "[['ABC', '$13\\\\circ$'], ['CDS', '$\\\\frac{1}{2} \\\\pi$']]"
      ]
     },
     "execution_count": 78,
     "metadata": {},
     "output_type": "execute_result"
    }
   ],
   "source": [
    "lines = content.split('\\n')\n",
    "angles = []\n",
    "for line in lines:\n",
    "    line_split = line.split(';; angles to annotate: ')\n",
    "    if len(line_split) > 1:\n",
    "        angles.append(line_split[1].strip())\n",
    "\n",
    "names = []\n",
    "texts = []\n",
    "for angle in angles:\n",
    "    angle = angle.strip().split(' ')\n",
    "    names.append(angle[0])\n",
    "    texts.append(' '.join(angle[1:]))\n",
    "angles = [[names[i], texts[i]] for i in range(len(names))]\n",
    "\n",
    "angles"
   ]
  },
  {
   "cell_type": "code",
   "execution_count": null,
   "metadata": {},
   "outputs": [],
   "source": [
    "['(param B point)', '(param C point)', '(define O point (midp B C))', '(param D point (on-seg B O))', '(param E point (on-seg O C))', '(define lineBD line (line B D))', '(define lineCE line (line C E))', '(define A point (inter-ll lineBD lineCE))', '(define lineOD line (line O D))', '(define lineOE line (line O E))', '(assert (= (uangle B A C) (div (mul 70 pi) 180)))', '', ';; segments to connect: BC BD CE OD OE AB AC', ';; angle to annotate: BAC $70^\\\\circ$']"
   ]
  },
  {
   "cell_type": "code",
   "execution_count": null,
   "metadata": {},
   "outputs": [
    {
     "name": "stderr",
     "output_type": "stream",
     "text": [
      "2025-04-27 14:31:10.487890: I tensorflow/core/util/port.cc:153] oneDNN custom operations are on. You may see slightly different numerical results due to floating-point round-off errors from different computation orders. To turn them off, set the environment variable `TF_ENABLE_ONEDNN_OPTS=0`.\n",
      "2025-04-27 14:31:10.868878: E external/local_xla/xla/stream_executor/cuda/cuda_fft.cc:467] Unable to register cuFFT factory: Attempting to register factory for plugin cuFFT when one has already been registered\n",
      "WARNING: All log messages before absl::InitializeLog() is called are written to STDERR\n",
      "E0000 00:00:1745735471.009810   17416 cuda_dnn.cc:8579] Unable to register cuDNN factory: Attempting to register factory for plugin cuDNN when one has already been registered\n",
      "E0000 00:00:1745735471.049786   17416 cuda_blas.cc:1407] Unable to register cuBLAS factory: Attempting to register factory for plugin cuBLAS when one has already been registered\n",
      "W0000 00:00:1745735471.367670   17416 computation_placer.cc:177] computation placer already registered. Please check linkage and avoid linking the same target more than once.\n",
      "W0000 00:00:1745735471.367716   17416 computation_placer.cc:177] computation placer already registered. Please check linkage and avoid linking the same target more than once.\n",
      "W0000 00:00:1745735471.367719   17416 computation_placer.cc:177] computation placer already registered. Please check linkage and avoid linking the same target more than once.\n",
      "W0000 00:00:1745735471.367721   17416 computation_placer.cc:177] computation placer already registered. Please check linkage and avoid linking the same target more than once.\n",
      "2025-04-27 14:31:11.414965: I tensorflow/core/platform/cpu_feature_guard.cc:210] This TensorFlow binary is optimized to use available CPU instructions in performance-critical operations.\n",
      "To enable the following instructions: AVX2 AVX512F AVX512_VNNI FMA, in other operations, rebuild TensorFlow with the appropriate compiler flags.\n"
     ]
    }
   ],
   "source": [
    "# aaa = ['(param A point)', '(param B point)', '(param C point)', '(assert (= (uangle B A C) (div (mul 90 pi) 180)))', '(assert (= (uangle A B C) (div (mul 20 pi) 180)))', '(assert (= (uangle A C B) (div (mul 70 pi) 180)))', ';; segments to connect: AB AC BC', ';; angle to annotate: BAC $\\\\frac{1}{2} \\\\pi$', ';; angle to annotate: CAB $angle 2$', ';; angle to annotate: ABC $20^\\\\circ$',  ';; angle to annotate: ACB $70^\\\\circ$', ';; segment to annotate: BC $\\\\frac{2}{3}cm$']\n",
    "aaa = ['(param A point)', '(param B point)', '(param C point)', '(param D point (on-seg C B))'\n",
    "       '(assert (= (uangle B A C) (div (mul 90 pi) 180)))', '(assert (= (uangle A B C) (div (mul 20 pi) 180)))', '(assert (= (uangle A C B) (div (mul 70 pi) 180)))',\n",
    "       ';; segments to connect: AB AC BC AD',\n",
    "       ';; angle to annotate: DAC $40^\\\\circ$',';; angle to annotate: DAB $\\\\frac{1}{2} \\\\pi$', ';; angle to annotate: ABC $20^\\\\circ$',  ';; angle to annotate: ACB $70^\\\\circ$',\n",
    "       ';; segment to annotate: BC $\\\\frac{2}{3}cm$']\n",
    "\n",
    "from s1_llm_generator_r1 import *\n",
    "content = '\\n'.join(aaa)\n",
    "content = '``` \\n ' + content + ' \\n ```'\n",
    "inputs = [content, 0, 0]\n",
    "res = gmb_draw(inputs)\n",
    "diagram = res[1][0]\n",
    "diagram.plot(show=False, save=True, return_fig=True, fname='/mnt/afs/qinshenghao/projects/create_vision_ds/geo-model-builder/src/aaa.png')"
   ]
  },
  {
   "cell_type": "code",
   "execution_count": null,
   "metadata": {},
   "outputs": [],
   "source": []
  },
  {
   "cell_type": "code",
   "execution_count": 3,
   "metadata": {},
   "outputs": [
    {
     "name": "stdout",
     "output_type": "stream",
     "text": [
      "[' (param A point)', '(param B point)', '(param C point)', '(param D point (on-seg C B))(assert (= (uangle B A C) (div (mul 90 pi) 180)))', '(assert (= (uangle D A C) (div (mul 40 pi) 180)))', '(assert (= (uangle A B C) (div (mul 20 pi) 180)))', '(assert (= (uangle A C B) (div (mul 70 pi) 180)))', ';; segments to connect: AB AC BC', ';; angle to annotate: DAC $40^\\\\circ$', ';; angle to annotate: CAB $\\\\frac{1}{2} \\\\pi$', ';; angle to annotate: ABC $20^\\\\circ$', ';; angle to annotate: ACB $70^\\\\circ$', ';; segment to annotate: BC $\\\\frac{2}{3}cm$ ', ' ']\n"
     ]
    },
    {
     "data": {
      "text/plain": [
       "[[' (param A point)',\n",
       "  '(param B point)',\n",
       "  '(param C point)',\n",
       "  '(param D point (on-seg C B))(assert (= (uangle B A C) (div (mul 90 pi) 180)))',\n",
       "  '(assert (= (uangle D A C) (div (mul 40 pi) 180)))',\n",
       "  '(assert (= (uangle A B C) (div (mul 20 pi) 180)))',\n",
       "  '(assert (= (uangle A C B) (div (mul 70 pi) 180)))',\n",
       "  ';; segments to connect: AB AC BC',\n",
       "  ';; angle to annotate: DAC $40^\\\\circ$',\n",
       "  ';; angle to annotate: CAB $\\\\frac{1}{2} \\\\pi$',\n",
       "  ';; angle to annotate: ABC $20^\\\\circ$',\n",
       "  ';; angle to annotate: ACB $70^\\\\circ$',\n",
       "  ';; segment to annotate: BC $\\\\frac{2}{3}cm$ ',\n",
       "  ' '],\n",
       " [None],\n",
       " 0]"
      ]
     },
     "execution_count": 3,
     "metadata": {},
     "output_type": "execute_result"
    }
   ],
   "source": [
    "gmb_draw(inputs)"
   ]
  },
  {
   "cell_type": "code",
   "execution_count": null,
   "metadata": {},
   "outputs": [],
   "source": []
  },
  {
   "cell_type": "code",
   "execution_count": null,
   "metadata": {},
   "outputs": [
    {
     "name": "stdout",
     "output_type": "stream",
     "text": [
      "(param B point) \n",
      "(param C point) \n",
      "(define O point (midp B C)) \n",
      "(define Gamma circle (diam B C)) \n",
      "(param D point (on-minor-arc Gamma B C)) \n",
      "(param E point (on-minor-arc Gamma C B)) \n",
      "(define A point (inter-ll (line B D) (line C E))) \n",
      "(assert (= (uangle B A C) (div (mul 7 pi) 18))) \n",
      "\n"
     ]
    },
    {
     "data": {
      "image/png": "[encoded data removed]",
      "text/plain": [
       "<Figure size 640x480 with 1 Axes>"
      ]
     },
     "metadata": {},
     "output_type": "display_data"
    }
   ],
   "source": [
    "ind = 1\n",
    "input_caption, diagram, gmbl_code = llm_result_dict[0][2:5]\n",
    "print(gmbl_code)\n",
    "diagram_fig, diagram_ax= diagram.plot(show=False, save=False, return_fig=True)"
   ]
  },
  {
   "cell_type": "code",
   "execution_count": 17,
   "metadata": {},
   "outputs": [
    {
     "data": {
      "text/plain": [
       "<Figure size 640x480 with 0 Axes>"
      ]
     },
     "metadata": {},
     "output_type": "display_data"
    }
   ],
   "source": [
    "plt.figure(diagram_fig.number)\n",
    "diagram_ax = diagram_fig.gca()          # 获取当前Axes对象\n",
    "plt.show(diagram_fig)              # 重新显示"
   ]
  },
  {
   "cell_type": "code",
   "execution_count": 5,
   "metadata": {},
   "outputs": [
    {
     "name": "stdout",
     "output_type": "stream",
     "text": [
      "B (np.float64(-0.8075240269017016), np.float64(0.6029463575948067))\n",
      "C (np.float64(0.73019205692321), np.float64(0.4092373653147093))\n",
      "O (np.float64(-0.03866598498924578), np.float64(0.506091861454758))\n",
      "D (np.float64(-0.10449246093632897), np.float64(-0.2660417779499673))\n",
      "E (np.float64(0.4111353723111255), np.float64(-0.12494080093819769))\n",
      "A (np.float64(0.1436554036700772), np.float64(-0.5727670526645297))\n"
     ]
    }
   ],
   "source": [
    "diagram_ax.get_children()\n",
    "\n",
    "xs = [p.x for p in named_points.values()]\n",
    "ys = [p.y for p in named_points.values()]\n",
    "names = [n for n in named_points.keys()]\n",
    "\n",
    "for i, n in enumerate(names):\n",
    "    print(str(n), (xs[i], ys[i]))"
   ]
  },
  {
   "cell_type": "code",
   "execution_count": 12,
   "metadata": {},
   "outputs": [
    {
     "data": {
      "image/png": "[encoded data removed]",
      "text/plain": [
       "<Figure size 640x480 with 1 Axes>"
      ]
     },
     "metadata": {},
     "output_type": "display_data"
    }
   ],
   "source": [
    "fig, ax = plt.subplots()\n",
    "fig.canvas.draw()  # Need to draw the figure to define renderer\n",
    "ax.set_title(\"AngleLabel example\")\n",
    "\n",
    "# Plot two crossing lines and label each angle between them with the above\n",
    "# ``AngleAnnotation`` tool.\n",
    "center = (4.5, 650)\n",
    "p1 = [(2.5, 710), (6.0, 605)]\n",
    "p2 = [(3.0, 275), (5.5, 900)]\n",
    "line1, = ax.plot(*zip(*p1))\n",
    "line2, = ax.plot(*zip(*p2))\n",
    "point, = ax.plot(*center, marker=\"o\")\n",
    "\n",
    "am1 = AngleAnnotation(center, p1[1], p2[1], ax=ax, size=75, text=r\"$\\alpha$\")\n",
    "am2 = AngleAnnotation(center, p2[1], p1[0], ax=ax, size=35, text=r\"$\\beta$\")\n",
    "am3 = AngleAnnotation(center, p1[0], p2[0], ax=ax, size=75, text=r\"$\\gamma$\")\n",
    "am4 = AngleAnnotation(center, p2[0], p1[1], ax=ax, size=35, text=r\"$\\theta$\")\n",
    "\n",
    "\n",
    "# Showcase some styling options for the angle arc, as well as the text.\n",
    "p = [(6.0, 400), (5.3, 410), (5.6, 300)]\n",
    "ax.plot(*zip(*p))\n",
    "am5 = AngleAnnotation(p[1], p[0], p[2], ax=ax, size=40, text=r\"$\\Phi$\",\n",
    "                      linestyle=\"--\", color=\"gray\", textposition=\"outside\",\n",
    "                      text_kw=dict(fontsize=16, color=\"gray\"))"
   ]
  },
  {
   "cell_type": "code",
   "execution_count": null,
   "metadata": {},
   "outputs": [],
   "source": []
  }
 ],
 "metadata": {
  "kernelspec": {
   "display_name": "gmb",
   "language": "python",
   "name": "python3"
  },
  "language_info": {
   "codemirror_mode": {
    "name": "ipython",
    "version": 3
   },
   "file_extension": ".py",
   "mimetype": "text/x-python",
   "name": "python",
   "nbconvert_exporter": "python",
   "pygments_lexer": "ipython3",
   "version": "3.11.11"
  }
 },
 "nbformat": 4,
 "nbformat_minor": 2
}
