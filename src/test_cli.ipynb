{
 "cells": [
  {
   "cell_type": "code",
   "execution_count": 1,
   "metadata": {},
   "outputs": [],
   "source": [
    "import argparse\n",
    "import pdb\n",
    "\n",
    "from builder import build\n",
    "from util import DEFAULTS"
   ]
  },
  {
   "cell_type": "code",
   "execution_count": 2,
   "metadata": {},
   "outputs": [],
   "source": [
    "# Parse arguments\n",
    "parser = argparse.ArgumentParser(description='Arguments for building a model that satisfies a set of geometry constraints')\n",
    "\n",
    "# General arguments\n",
    "parser.add_argument('--problem', '-p', action='store', type=str, help='Name of the file defining the set of constraints')\n",
    "parser.add_argument('--dir', '-d', action='store', type=str, help='Directory containing problem files.')\n",
    "parser.add_argument('--regularize_points', action='store', dest='regularize_points', type=float, default=DEFAULTS[\"regularize_points\"])\n",
    "parser.add_argument('--make_distinct', action='store', dest='make_distinct', type=float, default=DEFAULTS[\"make_distinct\"])\n",
    "parser.add_argument('--distinct_prob', action='store', dest='distinct_prob', type=float, default=DEFAULTS[\"distinct_prob\"])\n",
    "parser.add_argument('--min_dist', action='store', dest='min_dist', type=float, default=DEFAULTS[\"min_dist\"])\n",
    "parser.add_argument('--ndg_loss', action='store', dest='ndg_loss', type=float, default=DEFAULTS[\"ndg_loss\"])\n",
    "\n",
    "parser.add_argument('--n_models', action='store', dest='n_models', type=int, default=DEFAULTS['n_models'])\n",
    "parser.add_argument('--n_tries', action='store', dest='n_tries', type=int, default=DEFAULTS['n_tries'])\n",
    "parser.add_argument('--n_inits', action='store', dest='n_inits', type=int, default=DEFAULTS['n_inits'])\n",
    "parser.add_argument('--verbosity', action='store', dest='verbosity', type=int, default=DEFAULTS['verbosity'])\n",
    "parser.add_argument('--enforce_goals', dest='enforce_goals', action='store_true')\n",
    "parser.add_argument('--plot_freq', action='store', dest='plot_freq', type=int, default=DEFAULTS['plot_freq'])\n",
    "parser.add_argument('--loss_freq', action='store', dest='loss_freq', type=int, default=DEFAULTS['loss_freq'])\n",
    "parser.add_argument('--losses_freq', action='store', dest='losses_freq', type=int, default=DEFAULTS['losses_freq'])\n",
    "\n",
    "parser.add_argument('--unnamed_objects', dest='unnamed_objects', action='store_true')\n",
    "parser.add_argument('--no_unnamed_objects', dest='unnamed_objects', action='store_false')\n",
    "parser.set_defaults(unnamed_objects=True)\n",
    "\n",
    "# Tensorflow arguments\n",
    "parser.add_argument('--learning_rate', action='store', dest='learning_rate', type=float, default=DEFAULTS[\"learning_rate\"])\n",
    "parser.add_argument('--decay_steps', action='store', dest='decay_steps', type=float, default=DEFAULTS[\"decay_steps\"])\n",
    "parser.add_argument('--decay_rate', action='store', dest='decay_rate', type=float, default=DEFAULTS[\"decay_rate\"])\n",
    "parser.add_argument('--n_iterations', action='store', dest='n_iterations', type=int, default=DEFAULTS[\"n_iterations\"])\n",
    "parser.add_argument('--eps', action='store', dest='eps', type=float, default=DEFAULTS[\"eps\"])\n",
    "\n",
    "parser.add_argument('--experiment', dest='experiment', action='store_true')\n",
    "\n",
    "parser.add_argument(\"--f\", type=str, default='abc.def')\n",
    "\n",
    "\n",
    "args = parser.parse_args()\n",
    "args = vars(args)"
   ]
  },
  {
   "cell_type": "code",
   "execution_count": 171,
   "metadata": {},
   "outputs": [
    {
     "data": {
      "text/plain": [
       "['(param O point)\\n',\n",
       " '(param A point)\\n',\n",
       " '(define Gamma circle (coa O A)) ; Gamma是以O为圆心，经过A的圆，半径是OA的长度\\n',\n",
       " '(assert (= (dist O A) 5)) ; 设定半径为5\\n',\n",
       " '(param B point (on-circ Gamma)) ; B在圆Gamma上\\n',\n",
       " '(define M point (midp A B)) ; M是AB的中点\\n',\n",
       " '(assert (= (dist O M) 3)) ; OM=3\\n',\n",
       " '(eval (= (dist A B) 8)) ; 验证AB=8']"
      ]
     },
     "execution_count": 171,
     "metadata": {},
     "output_type": "execute_result"
    }
   ],
   "source": [
    "args['problem'] = 'example_test.smt2'\n",
    "\n",
    "args['n_tries'] = 10\n",
    "args['eps'] = 3e-4\n",
    "\n",
    "lines = open(args['problem'], 'r').readlines()\n",
    "args['lines'] = lines\n",
    "lines"
   ]
  },
  {
   "cell_type": "code",
   "execution_count": 172,
   "metadata": {},
   "outputs": [],
   "source": [
    "# lines = [\n",
    "#     '(param (A B C D) polygon)',\n",
    "#     '(param C1 circle)',\n",
    "#     '(define L1 line (reflect-ll (line C D) (line A B)))',\n",
    "#     '(param F point (in-poly A B C D))',\n",
    "#     '(param G point (on-line L1))',\n",
    "#     '(define H point (inter-lc L1 C1 (rs-closer-to-p A)))',\n",
    "\n",
    "#     # '(param A point)',\n",
    "#     # '(param B point)',\n",
    "#     # '(param C point)',\n",
    "#     # #'(param C1 circle)',\n",
    "#     # '(define D point (excenter A B C))',\n",
    "#     # '(define C2 circle (excircle A B C))',\n",
    "#     # '(define C1 circle (circumcircle A B C))',\n",
    "#     # #'(define L1 line (connecting A B))\\n',\n",
    "#     # #'(eval (coll A B C))'\n",
    "\n",
    "#     # '(param A point)',\n",
    "#     # '(param B point)',\n",
    "#     # '(define L1 line (line A B))',\n",
    "\n",
    "# ]\n",
    "# args['lines'] = lines"
   ]
  },
  {
   "cell_type": "code",
   "execution_count": 173,
   "metadata": {},
   "outputs": [],
   "source": [
    "#args['dir'] = '../test_new_functions'"
   ]
  },
  {
   "cell_type": "code",
   "execution_count": 174,
   "metadata": {},
   "outputs": [
    {
     "name": "stderr",
     "output_type": "stream",
     "text": [
      "Processing instructions...: 100%|██████████| 8/8 [00:00<00:00, 57.81it/s]"
     ]
    },
    {
     "name": "stdout",
     "output_type": "stream",
     "text": [
      "INPUT INSTRUCTIONS:\n",
      "parameterize O coords\n",
      "parameterize A coords\n",
      "define Gamma ((coa O A))\n",
      "assert (eq-n (dist O A) 5.0)\n",
      "parameterize B (on-circ Gamma)\n",
      "define M ((midp A B))\n",
      "assert (eq-n (dist O M) 3.0)\n",
      "eval (eq-n (dist A B) 8.0)\n"
     ]
    },
    {
     "name": "stderr",
     "output_type": "stream",
     "text": [
      "\n",
      "Sampling initializations...: 100%|██████████| 10/10 [00:09<00:00,  1.04it/s]\n"
     ]
    },
    {
     "name": "stdout",
     "output_type": "stream",
     "text": [
      "[     0]  13.795074539903 ||   0.100000\n",
      "======== Print losses ==========\n",
      "-- Losses --\n",
      "  eq-n_(dist O A)_5.0                                10.7760735548\n",
      "  eq-n_(dist O M)_3.0                                3.0190001108\n",
      "  points                                             0.0000008743\n",
      "  distinct                                           0.0000000000\n",
      "-- Goals --\n",
      "  eq-n_(dist A B)_8.0                                32.1675947250\n",
      "-- NDGs --\n",
      "================================\n"
     ]
    },
    {
     "data": {
      "image/png": "[encoded data removed]",
      "text/plain": [
       "<Figure size 640x480 with 1 Axes>"
      ]
     },
     "metadata": {},
     "output_type": "display_data"
    },
    {
     "name": "stdout",
     "output_type": "stream",
     "text": [
      "======== Print losses ==========\n",
      "-- Losses --\n",
      "  eq-n_(dist O A)_5.0                                0.0000041033\n",
      "  eq-n_(dist O M)_3.0                                0.0000565978\n",
      "  points                                             0.0000129129\n",
      "  distinct                                           0.0000000000\n",
      "-- Goals --\n",
      "  eq-n_(dist A B)_8.0                                0.0000388925\n",
      "-- NDGs --\n",
      "================================\n",
      "\n",
      "\n",
      "Found 1 models\n"
     ]
    },
    {
     "data": {
      "image/png": "[encoded data removed]",
      "text/plain": [
       "<Figure size 640x480 with 1 Axes>"
      ]
     },
     "metadata": {},
     "output_type": "display_data"
    }
   ],
   "source": [
    "res = build(args)"
   ]
  },
  {
   "cell_type": "code",
   "execution_count": 17,
   "metadata": {},
   "outputs": [
    {
     "name": "stdout",
     "output_type": "stream",
     "text": [
      ";; 竞赛几何题：垂心对称点在外接圆上的性质\n",
      "\n",
      "(param (A B C) acute-tri) ; 定义锐角三角形ABC\n",
      "\n",
      "(define H point (orthocenter A B C)) ; H为垂心\n",
      "\n",
      "(define M point (midp B C)) ; M为BC中点\n",
      "\n",
      "(param D point) ; 定义自由点D\n",
      "\n",
      "(assert (= (midp H D) M)) ; 约束D为H关于M的对称点\n",
      "\n",
      "(define Gamma circle (circumcircle A B C)) ; 定义外接圆Gamma\n",
      "\n",
      "(eval (on-circ D Gamma)) ; 验证D在外接圆上\n",
      "\n",
      "##############################################\n",
      "{<primitives.Point object at 0x000001D292B90550>: TfPoint(x=-0.4203581436731315, y=2.838658589240161), <primitives.Point object at 0x000001D292B908B0>: TfPoint(x=-2.0, y=0.0), <primitives.Point object at 0x000001D292B90820>: TfPoint(x=2.0, y=0.0), <primitives.Point object at 0x000001D292B90EE0>: TfPoint(x=-0.4203581436731317, y=1.3468682163962105), <primitives.Point object at 0x000001D292B903D0>: TfPoint(x=0.0, y=0.0), <primitives.Point object at 0x000001D2883D18E0>: TfPoint(x=0.4171581259706714, y=-1.3457968271026655)}\n",
      "{}\n",
      "{<primitives.Circle object at 0x000001D2883D1DF0>: CircleNF(center=TfPoint(x=2.2044684514802256e-16, y=0.745895186421975), radius=2.134563100291831)}\n",
      "[(TfPoint(x=-0.4203581436731315, y=2.838658589240161), TfPoint(x=-2.0, y=0.0)), (TfPoint(x=-2.0, y=0.0), TfPoint(x=2.0, y=0.0)), (TfPoint(x=2.0, y=0.0), TfPoint(x=-0.4203581436731315, y=2.838658589240161))]\n",
      "[array([0.41545995, 0.73301087, 0.17569872]), array([0.41545995, 0.73301087, 0.17569872]), array([0.41545995, 0.73301087, 0.17569872])]\n",
      "[TfPoint(x=-0.001600008851230128, y=0.0005356946467724999)]\n",
      "[]\n",
      "[]\n",
      "{}\n",
      "{'on-circ_D_Gamma': 2.8176271917835656e-06}\n"
     ]
    }
   ],
   "source": [
    "for item in res[0]:\n",
    "    print(item)\n",
    "\n",
    "print('\\n##############################################')\n",
    "\n",
    "for item in res[1][0]:\n",
    "    print(item)"
   ]
  },
  {
   "cell_type": "code",
   "execution_count": 11,
   "metadata": {},
   "outputs": [
    {
     "name": "stdout",
     "output_type": "stream",
     "text": [
      "A\n",
      "(coords -0.420358 2.838659)\n",
      "B\n",
      "(coords -2.000000 0.000000)\n",
      "C\n",
      "(coords 2.000000 0.000000)\n",
      "H\n",
      "(coords -0.420358 1.346868)\n",
      "M\n",
      "(coords 0.000000 0.000000)\n",
      "D\n",
      "(coords 0.417158 -1.345797)\n",
      "Gamma\n",
      "CircleNF(center=TfPoint(x=2.2044684514802256e-16, y=0.745895186421975), radius=2.134563100291831)\n"
     ]
    }
   ],
   "source": [
    "for obj_name, obj in res[1][0].named_points.items():\n",
    "    print(obj_name)\n",
    "    print(obj)\n",
    "    (x, y) = obj\n",
    "\n",
    "for obj_name, obj in res[1][0].named_lines.items():\n",
    "    print(obj_name)\n",
    "    print(obj)\n",
    "    (x, y), r = obj\n",
    "    # slope = y/x, intercept = r\n",
    "\n",
    "for obj_name, obj in res[1][0].named_circles.items():\n",
    "    print(obj_name)\n",
    "    print(obj)\n",
    "    (x, y), r = obj"
   ]
  },
  {
   "cell_type": "code",
   "execution_count": null,
   "metadata": {},
   "outputs": [],
   "source": []
  }
 ],
 "metadata": {
  "kernelspec": {
   "display_name": "gmb",
   "language": "python",
   "name": "python3"
  },
  "language_info": {
   "codemirror_mode": {
    "name": "ipython",
    "version": 3
   },
   "file_extension": ".py",
   "mimetype": "text/x-python",
   "name": "python",
   "nbconvert_exporter": "python",
   "pygments_lexer": "ipython3",
   "version": "3.8.18"
  }
 },
 "nbformat": 4,
 "nbformat_minor": 2
}
