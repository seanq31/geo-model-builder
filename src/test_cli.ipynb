{
 "cells": [
  {
   "cell_type": "code",
   "execution_count": 1,
   "metadata": {},
   "outputs": [],
   "source": [
    "import argparse\n",
    "import pdb\n",
    "\n",
    "from builder import build\n",
    "from util import DEFAULTS"
   ]
  },
  {
   "cell_type": "code",
   "execution_count": 2,
   "metadata": {},
   "outputs": [],
   "source": [
    "# Parse arguments\n",
    "parser = argparse.ArgumentParser(description='Arguments for building a model that satisfies a set of geometry constraints')\n",
    "\n",
    "# General arguments\n",
    "parser.add_argument('--problem', '-p', action='store', type=str, help='Name of the file defining the set of constraints', \\\n",
    "                    default='D:/projects/geo-model-builder/problems/test/experiments/exp1.smt2')\n",
    "parser.add_argument('--dir', '-d', action='store', type=str, help='Directory containing problem files.')\n",
    "parser.add_argument('--regularize_points', action='store', dest='regularize_points', type=float, default=DEFAULTS[\"regularize_points\"])\n",
    "parser.add_argument('--make_distinct', action='store', dest='make_distinct', type=float, default=DEFAULTS[\"make_distinct\"])\n",
    "parser.add_argument('--distinct_prob', action='store', dest='distinct_prob', type=float, default=DEFAULTS[\"distinct_prob\"])\n",
    "parser.add_argument('--min_dist', action='store', dest='min_dist', type=float, default=DEFAULTS[\"min_dist\"])\n",
    "parser.add_argument('--ndg_loss', action='store', dest='ndg_loss', type=float, default=DEFAULTS[\"ndg_loss\"])\n",
    "\n",
    "parser.add_argument('--n_models', action='store', dest='n_models', type=int, default=DEFAULTS['n_models'])\n",
    "parser.add_argument('--n_tries', action='store', dest='n_tries', type=int, default=DEFAULTS['n_tries'])\n",
    "parser.add_argument('--n_inits', action='store', dest='n_inits', type=int, default=DEFAULTS['n_inits'])\n",
    "parser.add_argument('--verbosity', action='store', dest='verbosity', type=int, default=DEFAULTS['verbosity'])\n",
    "parser.add_argument('--enforce_goals', dest='enforce_goals', action='store_true')\n",
    "parser.add_argument('--plot_freq', action='store', dest='plot_freq', type=int, default=DEFAULTS['plot_freq'])\n",
    "parser.add_argument('--loss_freq', action='store', dest='loss_freq', type=int, default=DEFAULTS['loss_freq'])\n",
    "parser.add_argument('--losses_freq', action='store', dest='losses_freq', type=int, default=DEFAULTS['losses_freq'])\n",
    "\n",
    "parser.add_argument('--unnamed_objects', dest='unnamed_objects', action='store_true')\n",
    "parser.add_argument('--no_unnamed_objects', dest='unnamed_objects', action='store_false')\n",
    "parser.set_defaults(unnamed_objects=True)\n",
    "\n",
    "# Tensorflow arguments\n",
    "parser.add_argument('--learning_rate', action='store', dest='learning_rate', type=float, default=DEFAULTS[\"learning_rate\"])\n",
    "parser.add_argument('--decay_steps', action='store', dest='decay_steps', type=float, default=DEFAULTS[\"decay_steps\"])\n",
    "parser.add_argument('--decay_rate', action='store', dest='decay_rate', type=float, default=DEFAULTS[\"decay_rate\"])\n",
    "parser.add_argument('--n_iterations', action='store', dest='n_iterations', type=int, default=DEFAULTS[\"n_iterations\"])\n",
    "parser.add_argument('--eps', action='store', dest='eps', type=float, default=DEFAULTS[\"eps\"])\n",
    "\n",
    "parser.add_argument('--experiment', dest='experiment', action='store_true')\n",
    "\n",
    "parser.add_argument(\"--f\", type=str, default='abc.def')\n",
    "\n",
    "\n",
    "args = parser.parse_args()\n",
    "args = vars(args)\n"
   ]
  },
  {
   "cell_type": "code",
   "execution_count": 3,
   "metadata": {},
   "outputs": [],
   "source": [
    "#lines = open(args['problem'], 'r').readlines()\n",
    "#args['lines'] = lines\n",
    "#lines"
   ]
  },
  {
   "cell_type": "code",
   "execution_count": 41,
   "metadata": {},
   "outputs": [],
   "source": [
    "lines = [\n",
    "    #'(param (A B C D) polygon)\\n',\n",
    "    # '(param C1 circle)\\n',\n",
    "    # '(define L1 line (reflect-ll (line C D) (line A B)))\\n',\n",
    "    # '(param F point (in-poly A B C D))\\n',\n",
    "    # '(param G point (on-line L1))\\n',\n",
    "    # '(define H point (inter-lc L1 C1 (rs-closer-to-p A)))\\n',\n",
    "\n",
    "    # '(param A point)',\n",
    "    # '(param B point)',\n",
    "    # '(param C point)',\n",
    "    # #'(param C1 circle)',\n",
    "    # '(define D point (excenter A B C))',\n",
    "    # '(define C2 circle (excircle A B C))',\n",
    "    # '(define C1 circle (circumcircle A B C))',\n",
    "    # #'(define L1 line (connecting A B))\\n',\n",
    "    # #'(eval (coll A B C))'\n",
    "\n",
    "    '(param A point)',\n",
    "    '(param B point)',\n",
    "    '(define L1 line (line A B))',\n",
    "\n",
    "]\n",
    "args['lines'] = lines"
   ]
  },
  {
   "cell_type": "code",
   "execution_count": 42,
   "metadata": {},
   "outputs": [
    {
     "name": "stderr",
     "output_type": "stream",
     "text": [
      "Processing instructions...: 100%|██████████| 3/3 [00:00<00:00, 24.98it/s]"
     ]
    },
    {
     "name": "stdout",
     "output_type": "stream",
     "text": [
      "INPUT INSTRUCTIONS:\n",
      "parameterize A coords\n",
      "parameterize B coords\n",
      "define L1 ((connecting A B))\n"
     ]
    },
    {
     "name": "stderr",
     "output_type": "stream",
     "text": [
      "\n"
     ]
    },
    {
     "name": "stdout",
     "output_type": "stream",
     "text": [
      "\n",
      "\n",
      "Found 1 models\n"
     ]
    },
    {
     "data": {
      "image/png": "[encoded data removed]",
      "text/plain": [
       "<Figure size 640x480 with 1 Axes>"
      ]
     },
     "metadata": {},
     "output_type": "display_data"
    },
    {
     "data": {
      "text/plain": [
       "[None]"
      ]
     },
     "execution_count": 42,
     "metadata": {},
     "output_type": "execute_result"
    }
   ],
   "source": [
    "build(args)"
   ]
  },
  {
   "cell_type": "code",
   "execution_count": null,
   "metadata": {},
   "outputs": [],
   "source": []
  }
 ],
 "metadata": {
  "kernelspec": {
   "display_name": "gmb",
   "language": "python",
   "name": "python3"
  },
  "language_info": {
   "codemirror_mode": {
    "name": "ipython",
    "version": 3
   },
   "file_extension": ".py",
   "mimetype": "text/x-python",
   "name": "python",
   "nbconvert_exporter": "python",
   "pygments_lexer": "ipython3",
   "version": "3.8.18"
  }
 },
 "nbformat": 4,
 "nbformat_minor": 2
}
