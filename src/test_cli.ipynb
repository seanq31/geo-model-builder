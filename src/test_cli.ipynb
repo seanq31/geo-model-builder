{
 "cells": [
  {
   "cell_type": "code",
   "execution_count": 1,
   "metadata": {},
   "outputs": [],
   "source": [
    "import argparse\n",
    "import pdb\n",
    "\n",
    "from builder import build\n",
    "from util import DEFAULTS"
   ]
  },
  {
   "cell_type": "code",
   "execution_count": 2,
   "metadata": {},
   "outputs": [],
   "source": [
    "# Parse arguments\n",
    "parser = argparse.ArgumentParser(description='Arguments for building a model that satisfies a set of geometry constraints')\n",
    "\n",
    "# General arguments\n",
    "parser.add_argument('--problem', '-p', action='store', type=str, help='Name of the file defining the set of constraints')\n",
    "parser.add_argument('--dir', '-d', action='store', type=str, help='Directory containing problem files.')\n",
    "parser.add_argument('--regularize_points', action='store', dest='regularize_points', type=float, default=DEFAULTS[\"regularize_points\"])\n",
    "parser.add_argument('--make_distinct', action='store', dest='make_distinct', type=float, default=DEFAULTS[\"make_distinct\"])\n",
    "parser.add_argument('--distinct_prob', action='store', dest='distinct_prob', type=float, default=DEFAULTS[\"distinct_prob\"])\n",
    "parser.add_argument('--min_dist', action='store', dest='min_dist', type=float, default=DEFAULTS[\"min_dist\"])\n",
    "parser.add_argument('--ndg_loss', action='store', dest='ndg_loss', type=float, default=DEFAULTS[\"ndg_loss\"])\n",
    "\n",
    "parser.add_argument('--n_models', action='store', dest='n_models', type=int, default=DEFAULTS['n_models'])\n",
    "parser.add_argument('--n_tries', action='store', dest='n_tries', type=int, default=DEFAULTS['n_tries'])\n",
    "parser.add_argument('--n_inits', action='store', dest='n_inits', type=int, default=DEFAULTS['n_inits'])\n",
    "parser.add_argument('--verbosity', action='store', dest='verbosity', type=int, default=DEFAULTS['verbosity'])\n",
    "parser.add_argument('--enforce_goals', dest='enforce_goals', action='store_true')\n",
    "parser.add_argument('--plot_freq', action='store', dest='plot_freq', type=int, default=DEFAULTS['plot_freq'])\n",
    "parser.add_argument('--loss_freq', action='store', dest='loss_freq', type=int, default=DEFAULTS['loss_freq'])\n",
    "parser.add_argument('--losses_freq', action='store', dest='losses_freq', type=int, default=DEFAULTS['losses_freq'])\n",
    "\n",
    "parser.add_argument('--unnamed_objects', dest='unnamed_objects', action='store_true')\n",
    "parser.add_argument('--no_unnamed_objects', dest='unnamed_objects', action='store_false')\n",
    "parser.set_defaults(unnamed_objects=True)\n",
    "\n",
    "# Tensorflow arguments\n",
    "parser.add_argument('--learning_rate', action='store', dest='learning_rate', type=float, default=DEFAULTS[\"learning_rate\"])\n",
    "parser.add_argument('--decay_steps', action='store', dest='decay_steps', type=float, default=DEFAULTS[\"decay_steps\"])\n",
    "parser.add_argument('--decay_rate', action='store', dest='decay_rate', type=float, default=DEFAULTS[\"decay_rate\"])\n",
    "parser.add_argument('--n_iterations', action='store', dest='n_iterations', type=int, default=DEFAULTS[\"n_iterations\"])\n",
    "parser.add_argument('--eps', action='store', dest='eps', type=float, default=DEFAULTS[\"eps\"])\n",
    "\n",
    "parser.add_argument('--experiment', dest='experiment', action='store_true')\n",
    "\n",
    "parser.add_argument(\"--f\", type=str, default='abc.def')\n",
    "\n",
    "\n",
    "args = parser.parse_args()\n",
    "args = vars(args)"
   ]
  },
  {
   "cell_type": "code",
   "execution_count": 14,
   "metadata": {},
   "outputs": [
    {
     "data": {
      "text/plain": [
       "['(param (A B C) triangle)']"
      ]
     },
     "execution_count": 14,
     "metadata": {},
     "output_type": "execute_result"
    }
   ],
   "source": [
    "args['problem'] = 'example_test.smt2'\n",
    "\n",
    "args['n_tries'] = 10\n",
    "args['eps'] = 1e-4\n",
    "args['n_iterations'] = 10000\n",
    "\n",
    "lines = open(args['problem'], 'r').readlines()\n",
    "args['lines'] = ['(param (A B C) triangle)']\n",
    "\n",
    "args['lines']"
   ]
  },
  {
   "cell_type": "code",
   "execution_count": 18,
   "metadata": {},
   "outputs": [
    {
     "name": "stderr",
     "output_type": "stream",
     "text": [
      "Processing instructions...: 100%|██████████| 1/1 [00:00<00:00,  5.67it/s]"
     ]
    },
    {
     "name": "stdout",
     "output_type": "stream",
     "text": [
      "INPUT INSTRUCTIONS:\n",
      "sample (A B C) triangle ()\n"
     ]
    },
    {
     "name": "stderr",
     "output_type": "stream",
     "text": [
      "Processing instructions...: 100%|██████████| 1/1 [00:00<00:00,  5.67it/s]\n"
     ]
    },
    {
     "name": "stdout",
     "output_type": "stream",
     "text": [
      "\n",
      "\n",
      "Found 1 models\n"
     ]
    }
   ],
   "source": [
    "res = build(args)"
   ]
  },
  {
   "cell_type": "code",
   "execution_count": 17,
   "metadata": {},
   "outputs": [
    {
     "data": {
      "image/png": "[encoded data removed]",
      "text/plain": [
       "<Figure size 640x480 with 1 Axes>"
      ]
     },
     "metadata": {},
     "output_type": "display_data"
    }
   ],
   "source": [
    "res[1][0].plot()"
   ]
  },
  {
   "cell_type": "code",
   "execution_count": null,
   "metadata": {},
   "outputs": [
    {
     "name": "stdout",
     "output_type": "stream",
     "text": [
      "(param A point)\n",
      "(param B point)\n",
      "(define O point (midp A B))\n",
      "(define circle_O circle (diam A B))\n",
      "(param S point (on-ray B A))\n",
      "(param C point (on-circ circle_O))\n",
      "(assert (perp (line O C) (line S C)))\n",
      "(assert (= (uangle B S C) (div pi 6)))\n"
     ]
    }
   ],
   "source": [
    "for item in res[0]:\n",
    "    print(item)"
   ]
  },
  {
   "cell_type": "code",
   "execution_count": null,
   "metadata": {},
   "outputs": [
    {
     "name": "stdout",
     "output_type": "stream",
     "text": [
      "A\n",
      "(coords -0.161407 0.177885)\n",
      "B\n",
      "(coords -0.143542 -0.401606)\n",
      "O\n",
      "(coords -0.152475 -0.111861)\n",
      "S\n",
      "(coords -0.170406 0.469775)\n",
      "C\n",
      "(coords -0.407444 0.026063)\n",
      "circle_O\n",
      "CircleNF(center=TfPoint(x=-0.15247471993888645, y=-0.11186077383137494), radius=0.2898830659905043)\n"
     ]
    }
   ],
   "source": [
    "for obj_name, obj in res[1][0].named_points.items():\n",
    "    print(obj_name)\n",
    "    print(obj)\n",
    "    (x, y) = obj\n",
    "\n",
    "for obj_name, obj in res[1][0].named_lines.items():\n",
    "    print(obj_name)\n",
    "    print(obj)\n",
    "    (x, y), r = obj\n",
    "    # slope = y/x, intercept = r\n",
    "\n",
    "for obj_name, obj in res[1][0].named_circles.items():\n",
    "    print(obj_name)\n",
    "    print(obj)\n",
    "    (x, y), r = obj"
   ]
  },
  {
   "cell_type": "code",
   "execution_count": null,
   "metadata": {},
   "outputs": [
    {
     "name": "stdout",
     "output_type": "stream",
     "text": [
      "{<primitives.Point object at 0x000001D8CF331850>: TfPoint(x=-0.1614070837095692, y=0.1778846399813777), <primitives.Point object at 0x000001D8CF3317C0>: TfPoint(x=-0.14354235616820368, y=-0.4016061876441276), <primitives.Point object at 0x000001D8CF3317F0>: TfPoint(x=-0.15247471993888645, y=-0.11186077383137494), <primitives.Point object at 0x000001D8CD94BB50>: TfPoint(x=-0.17040556781690216, y=0.469774846012181), <primitives.Point object at 0x000001D8CD94BF10>: TfPoint(x=-0.4074438697609302, y=0.026062844838812493)}\n",
      "{}\n",
      "{<primitives.Circle object at 0x000001D8CD8F0B80>: CircleNF(center=TfPoint(x=-0.15247471993888645, y=-0.11186077383137494), radius=0.2898830659905043)}\n",
      "[]\n",
      "[]\n",
      "[]\n",
      "[LineNF(n=TfPoint(x=0.4757905336723098, y=0.8795586211662182), r=-0.17093413636496907), LineNF(n=TfPoint(x=-0.8820292568107065, y=0.4711946414486829), r=0.3716580864662685)]\n",
      "[]\n",
      "{}\n",
      "{}\n"
     ]
    }
   ],
   "source": [
    "for item in res[1][0]:\n",
    "    print(item)"
   ]
  },
  {
   "cell_type": "code",
   "execution_count": null,
   "metadata": {},
   "outputs": [],
   "source": []
  }
 ],
 "metadata": {
  "kernelspec": {
   "display_name": "gmb",
   "language": "python",
   "name": "python3"
  },
  "language_info": {
   "codemirror_mode": {
    "name": "ipython",
    "version": 3
   },
   "file_extension": ".py",
   "mimetype": "text/x-python",
   "name": "python",
   "nbconvert_exporter": "python",
   "pygments_lexer": "ipython3",
   "version": "3.8.18"
  }
 },
 "nbformat": 4,
 "nbformat_minor": 2
}
