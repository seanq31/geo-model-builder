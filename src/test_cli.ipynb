{
 "cells": [
  {
   "cell_type": "code",
   "execution_count": null,
   "metadata": {},
   "outputs": [],
   "source": [
    "import argparse\n",
    "import pdb\n",
    "\n",
    "from builder import build\n",
    "from util import DEFAULTS"
   ]
  },
  {
   "cell_type": "code",
   "execution_count": 2,
   "metadata": {},
   "outputs": [],
   "source": [
    "# Parse arguments\n",
    "parser = argparse.ArgumentParser(description='Arguments for building a model that satisfies a set of geometry constraints')\n",
    "\n",
    "# General arguments\n",
    "parser.add_argument('--problem', '-p', action='store', type=str, help='Name of the file defining the set of constraints')\n",
    "parser.add_argument('--dir', '-d', action='store', type=str, help='Directory containing problem files.')\n",
    "parser.add_argument('--regularize_points', action='store', dest='regularize_points', type=float, default=DEFAULTS[\"regularize_points\"])\n",
    "parser.add_argument('--make_distinct', action='store', dest='make_distinct', type=float, default=DEFAULTS[\"make_distinct\"])\n",
    "parser.add_argument('--distinct_prob', action='store', dest='distinct_prob', type=float, default=DEFAULTS[\"distinct_prob\"])\n",
    "parser.add_argument('--min_dist', action='store', dest='min_dist', type=float, default=DEFAULTS[\"min_dist\"])\n",
    "parser.add_argument('--ndg_loss', action='store', dest='ndg_loss', type=float, default=DEFAULTS[\"ndg_loss\"])\n",
    "\n",
    "parser.add_argument('--n_models', action='store', dest='n_models', type=int, default=DEFAULTS['n_models'])\n",
    "parser.add_argument('--n_tries', action='store', dest='n_tries', type=int, default=DEFAULTS['n_tries'])\n",
    "parser.add_argument('--n_inits', action='store', dest='n_inits', type=int, default=DEFAULTS['n_inits'])\n",
    "parser.add_argument('--verbosity', action='store', dest='verbosity', type=int, default=DEFAULTS['verbosity'])\n",
    "parser.add_argument('--enforce_goals', dest='enforce_goals', action='store_true')\n",
    "parser.add_argument('--plot_freq', action='store', dest='plot_freq', type=int, default=DEFAULTS['plot_freq'])\n",
    "parser.add_argument('--loss_freq', action='store', dest='loss_freq', type=int, default=DEFAULTS['loss_freq'])\n",
    "parser.add_argument('--losses_freq', action='store', dest='losses_freq', type=int, default=DEFAULTS['losses_freq'])\n",
    "\n",
    "parser.add_argument('--unnamed_objects', dest='unnamed_objects', action='store_true')\n",
    "parser.add_argument('--no_unnamed_objects', dest='unnamed_objects', action='store_false')\n",
    "parser.set_defaults(unnamed_objects=True)\n",
    "\n",
    "# Tensorflow arguments\n",
    "parser.add_argument('--learning_rate', action='store', dest='learning_rate', type=float, default=DEFAULTS[\"learning_rate\"])\n",
    "parser.add_argument('--decay_steps', action='store', dest='decay_steps', type=float, default=DEFAULTS[\"decay_steps\"])\n",
    "parser.add_argument('--decay_rate', action='store', dest='decay_rate', type=float, default=DEFAULTS[\"decay_rate\"])\n",
    "parser.add_argument('--n_iterations', action='store', dest='n_iterations', type=int, default=DEFAULTS[\"n_iterations\"])\n",
    "parser.add_argument('--eps', action='store', dest='eps', type=float, default=DEFAULTS[\"eps\"])\n",
    "\n",
    "parser.add_argument('--experiment', dest='experiment', action='store_true')\n",
    "\n",
    "parser.add_argument(\"--f\", type=str, default='abc.def')\n",
    "\n",
    "\n",
    "args = parser.parse_args()\n",
    "args = vars(args)"
   ]
  },
  {
   "cell_type": "code",
   "execution_count": 187,
   "metadata": {},
   "outputs": [
    {
     "data": {
      "text/plain": [
       "['(param (A B C) (right-tri B))\\n',\n",
       " '(assert (= (dist A B) 6))\\n',\n",
       " '(assert (= (dist B C) 8))\\n',\n",
       " '(define D point (midp A C))\\n',\n",
       " '(define E point (foot B (line A C)))\\n',\n",
       " '(eval (= (dist D E) (div 15 5)))']"
      ]
     },
     "execution_count": 187,
     "metadata": {},
     "output_type": "execute_result"
    }
   ],
   "source": [
    "args['problem'] = 'example_test.smt2'\n",
    "\n",
    "args['n_tries'] = 10\n",
    "args['eps'] = 3e-4\n",
    "\n",
    "lines = open(args['problem'], 'r').readlines()\n",
    "args['lines'] = lines\n",
    "lines"
   ]
  },
  {
   "cell_type": "code",
   "execution_count": 188,
   "metadata": {},
   "outputs": [],
   "source": [
    "# lines = [\n",
    "#     '(param (A B C D) polygon)',\n",
    "#     '(param C1 circle)',\n",
    "#     '(define L1 line (reflect-ll (line C D) (line A B)))',\n",
    "#     '(param F point (in-poly A B C D))',\n",
    "#     '(param G point (on-line L1))',\n",
    "#     '(define H point (inter-lc L1 C1 (rs-closer-to-p A)))',\n",
    "\n",
    "#     # '(param A point)',\n",
    "#     # '(param B point)',\n",
    "#     # '(param C point)',\n",
    "#     # #'(param C1 circle)',\n",
    "#     # '(define D point (excenter A B C))',\n",
    "#     # '(define C2 circle (excircle A B C))',\n",
    "#     # '(define C1 circle (circumcircle A B C))',\n",
    "#     # #'(define L1 line (connecting A B))\\n',\n",
    "#     # #'(eval (coll A B C))'\n",
    "\n",
    "#     # '(param A point)',\n",
    "#     # '(param B point)',\n",
    "#     # '(define L1 line (line A B))',\n",
    "\n",
    "# ]\n",
    "# args['lines'] = lines"
   ]
  },
  {
   "cell_type": "code",
   "execution_count": 189,
   "metadata": {},
   "outputs": [],
   "source": [
    "#args['dir'] = '../test_new_functions'"
   ]
  },
  {
   "cell_type": "code",
   "execution_count": 190,
   "metadata": {},
   "outputs": [
    {
     "name": "stderr",
     "output_type": "stream",
     "text": [
      "Processing instructions...:   0%|          | 0/6 [00:00<?, ?it/s]"
     ]
    },
    {
     "name": "stdout",
     "output_type": "stream",
     "text": [
      "INPUT INSTRUCTIONS:\n",
      "sample (A B C) right-tri (B)\n",
      "assert (eq-n (dist A B) 6.0)\n",
      "assert (eq-n (dist B C) 8.0)\n",
      "define D ((midp A C))\n",
      "define E ((foot B (connecting A C)))\n",
      "eval (eq-n (dist D E) (div 15.0 5.0))\n"
     ]
    },
    {
     "name": "stderr",
     "output_type": "stream",
     "text": [
      "Processing instructions...: 100%|██████████| 6/6 [00:00<00:00, 17.00it/s]\n"
     ]
    },
    {
     "ename": "ValueError",
     "evalue": "No variables to optimize.",
     "output_type": "error",
     "traceback": [
      "\u001b[1;31m---------------------------------------------------------------------------\u001b[0m",
      "\u001b[1;31mValueError\u001b[0m                                Traceback (most recent call last)",
      "Cell \u001b[1;32mIn[190], line 1\u001b[0m\n\u001b[1;32m----> 1\u001b[0m res \u001b[38;5;241m=\u001b[39m \u001b[43mbuild\u001b[49m\u001b[43m(\u001b[49m\u001b[43margs\u001b[49m\u001b[43m)\u001b[49m\n",
      "File \u001b[1;32md:\\projects\\geo-model-builder\\src\\builder.py:83\u001b[0m, in \u001b[0;36mbuild\u001b[1;34m(opts, show_plot, save_plot, outf_prefix, encode_fig)\u001b[0m\n\u001b[0;32m     81\u001b[0m     \u001b[38;5;28;01mif\u001b[39;00m \u001b[38;5;124m'\u001b[39m\u001b[38;5;124mlines\u001b[39m\u001b[38;5;124m'\u001b[39m \u001b[38;5;129;01mnot\u001b[39;00m \u001b[38;5;129;01min\u001b[39;00m opts:\n\u001b[0;32m     82\u001b[0m         opts[\u001b[38;5;124m'\u001b[39m\u001b[38;5;124mlines\u001b[39m\u001b[38;5;124m'\u001b[39m] \u001b[38;5;241m=\u001b[39m \u001b[38;5;28mopen\u001b[39m(opts[\u001b[38;5;124m'\u001b[39m\u001b[38;5;124mproblem\u001b[39m\u001b[38;5;124m'\u001b[39m], \u001b[38;5;124m'\u001b[39m\u001b[38;5;124mr\u001b[39m\u001b[38;5;124m'\u001b[39m)\u001b[38;5;241m.\u001b[39mreadlines()\n\u001b[1;32m---> 83\u001b[0m     \u001b[38;5;28;01mreturn\u001b[39;00m \u001b[43mbuild_aux\u001b[49m\u001b[43m(\u001b[49m\u001b[43mopts\u001b[49m\u001b[43m,\u001b[49m\u001b[43m \u001b[49m\u001b[43mshow_plot\u001b[49m\u001b[38;5;241;43m=\u001b[39;49m\u001b[43mshow_plot\u001b[49m\u001b[43m,\u001b[49m\u001b[43m \u001b[49m\u001b[43msave_plot\u001b[49m\u001b[38;5;241;43m=\u001b[39;49m\u001b[43msave_plot\u001b[49m\u001b[43m,\u001b[49m\u001b[43m \u001b[49m\u001b[43moutf_prefix\u001b[49m\u001b[38;5;241;43m=\u001b[39;49m\u001b[43moutf_prefix\u001b[49m\u001b[43m,\u001b[49m\u001b[43m \u001b[49m\u001b[43mencode_fig\u001b[49m\u001b[38;5;241;43m=\u001b[39;49m\u001b[43mencode_fig\u001b[49m\u001b[43m)\u001b[49m\n\u001b[0;32m     84\u001b[0m \u001b[38;5;28;01melse\u001b[39;00m:\n\u001b[0;32m     85\u001b[0m     dir_files \u001b[38;5;241m=\u001b[39m [f \u001b[38;5;28;01mfor\u001b[39;00m f \u001b[38;5;129;01min\u001b[39;00m listdir(opts[\u001b[38;5;124m'\u001b[39m\u001b[38;5;124mdir\u001b[39m\u001b[38;5;124m'\u001b[39m]) \u001b[38;5;28;01mif\u001b[39;00m isfile(join(opts[\u001b[38;5;124m'\u001b[39m\u001b[38;5;124mdir\u001b[39m\u001b[38;5;124m'\u001b[39m], f)) \u001b[38;5;129;01mand\u001b[39;00m f[\u001b[38;5;241m-\u001b[39m\u001b[38;5;241m1\u001b[39m] \u001b[38;5;241m!=\u001b[39m \u001b[38;5;124m\"\u001b[39m\u001b[38;5;124m~\u001b[39m\u001b[38;5;124m\"\u001b[39m]\n",
      "File \u001b[1;32md:\\projects\\geo-model-builder\\src\\builder.py:48\u001b[0m, in \u001b[0;36mbuild_aux\u001b[1;34m(opts, show_plot, save_plot, outf_prefix, encode_fig)\u001b[0m\n\u001b[0;32m     44\u001b[0m     solver \u001b[38;5;241m=\u001b[39m TfOptimizer(instructions, opts,\n\u001b[0;32m     45\u001b[0m                          reader\u001b[38;5;241m.\u001b[39munnamed_points, reader\u001b[38;5;241m.\u001b[39munnamed_lines, reader\u001b[38;5;241m.\u001b[39munnamed_circles,\n\u001b[0;32m     46\u001b[0m                          reader\u001b[38;5;241m.\u001b[39msegments, reader\u001b[38;5;241m.\u001b[39mseg_colors, g)\n\u001b[0;32m     47\u001b[0m     solver\u001b[38;5;241m.\u001b[39mpreprocess()\n\u001b[1;32m---> 48\u001b[0m     filtered_models \u001b[38;5;241m=\u001b[39m \u001b[43msolver\u001b[49m\u001b[38;5;241;43m.\u001b[39;49m\u001b[43msolve\u001b[49m\u001b[43m(\u001b[49m\u001b[43m)\u001b[49m\n\u001b[0;32m     49\u001b[0m     \u001b[38;5;66;03m# print(filtered_models)\u001b[39;00m\n\u001b[0;32m     52\u001b[0m \u001b[38;5;28;01mif\u001b[39;00m verbosity \u001b[38;5;241m>\u001b[39m\u001b[38;5;241m=\u001b[39m \u001b[38;5;241m0\u001b[39m:\n",
      "File \u001b[1;32md:\\projects\\geo-model-builder\\src\\tf_optimizer.py:333\u001b[0m, in \u001b[0;36mTfOptimizer.solve\u001b[1;34m(self)\u001b[0m\n\u001b[0;32m    331\u001b[0m \u001b[38;5;28;01mdef\u001b[39;00m \u001b[38;5;21msolve\u001b[39m(\u001b[38;5;28mself\u001b[39m):\n\u001b[0;32m    332\u001b[0m     \u001b[38;5;28;01mif\u001b[39;00m \u001b[38;5;28mself\u001b[39m\u001b[38;5;241m.\u001b[39mhas_loss:\n\u001b[1;32m--> 333\u001b[0m         \u001b[38;5;28;43mself\u001b[39;49m\u001b[38;5;241;43m.\u001b[39;49m\u001b[43mfreeze\u001b[49m\u001b[43m(\u001b[49m\u001b[43m)\u001b[49m\n\u001b[0;32m    335\u001b[0m     models \u001b[38;5;241m=\u001b[39m \u001b[38;5;28mlist\u001b[39m()\n\u001b[0;32m    337\u001b[0m     \u001b[38;5;28;01mfor\u001b[39;00m i \u001b[38;5;129;01min\u001b[39;00m \u001b[38;5;28mrange\u001b[39m(\u001b[38;5;28mself\u001b[39m\u001b[38;5;241m.\u001b[39mn_tries):\n\u001b[0;32m    338\u001b[0m \n\u001b[0;32m    339\u001b[0m         \u001b[38;5;66;03m# Stop when we have enough\u001b[39;00m\n",
      "File \u001b[1;32md:\\projects\\geo-model-builder\\src\\tf_optimizer.py:210\u001b[0m, in \u001b[0;36mTfOptimizer.freeze\u001b[1;34m(self)\u001b[0m\n\u001b[0;32m    203\u001b[0m \u001b[38;5;28mself\u001b[39m\u001b[38;5;241m.\u001b[39mlearning_rate \u001b[38;5;241m=\u001b[39m tf\u001b[38;5;241m.\u001b[39mtrain\u001b[38;5;241m.\u001b[39mexponential_decay(\n\u001b[0;32m    204\u001b[0m     global_step\u001b[38;5;241m=\u001b[39m\u001b[38;5;28mself\u001b[39m\u001b[38;5;241m.\u001b[39mglobal_step,\n\u001b[0;32m    205\u001b[0m     learning_rate\u001b[38;5;241m=\u001b[39mopts[\u001b[38;5;124m'\u001b[39m\u001b[38;5;124mlearning_rate\u001b[39m\u001b[38;5;124m'\u001b[39m],\n\u001b[0;32m    206\u001b[0m     decay_steps\u001b[38;5;241m=\u001b[39mopts[\u001b[38;5;124m'\u001b[39m\u001b[38;5;124mdecay_steps\u001b[39m\u001b[38;5;124m'\u001b[39m],\n\u001b[0;32m    207\u001b[0m     decay_rate\u001b[38;5;241m=\u001b[39mopts[\u001b[38;5;124m'\u001b[39m\u001b[38;5;124mdecay_rate\u001b[39m\u001b[38;5;124m'\u001b[39m],\n\u001b[0;32m    208\u001b[0m     staircase\u001b[38;5;241m=\u001b[39m\u001b[38;5;28;01mFalse\u001b[39;00m)\n\u001b[0;32m    209\u001b[0m optimizer         \u001b[38;5;241m=\u001b[39m tf\u001b[38;5;241m.\u001b[39mtrain\u001b[38;5;241m.\u001b[39mAdamOptimizer(learning_rate\u001b[38;5;241m=\u001b[39m\u001b[38;5;28mself\u001b[39m\u001b[38;5;241m.\u001b[39mlearning_rate)\n\u001b[1;32m--> 210\u001b[0m gs, vs            \u001b[38;5;241m=\u001b[39m \u001b[38;5;28mzip\u001b[39m(\u001b[38;5;241m*\u001b[39m\u001b[43moptimizer\u001b[49m\u001b[38;5;241;43m.\u001b[39;49m\u001b[43mcompute_gradients\u001b[49m\u001b[43m(\u001b[49m\u001b[38;5;28;43mself\u001b[39;49m\u001b[38;5;241;43m.\u001b[39;49m\u001b[43mloss\u001b[49m\u001b[43m)\u001b[49m)\n\u001b[0;32m    211\u001b[0m \u001b[38;5;28mself\u001b[39m\u001b[38;5;241m.\u001b[39mapply_grads  \u001b[38;5;241m=\u001b[39m optimizer\u001b[38;5;241m.\u001b[39mapply_gradients(\u001b[38;5;28mzip\u001b[39m(gs, vs), name\u001b[38;5;241m=\u001b[39m\u001b[38;5;124m'\u001b[39m\u001b[38;5;124mapply_gradients\u001b[39m\u001b[38;5;124m'\u001b[39m, global_step\u001b[38;5;241m=\u001b[39m\u001b[38;5;28mself\u001b[39m\u001b[38;5;241m.\u001b[39mglobal_step)\n\u001b[0;32m    212\u001b[0m \u001b[38;5;28mself\u001b[39m\u001b[38;5;241m.\u001b[39mreset_step   \u001b[38;5;241m=\u001b[39m tf\u001b[38;5;241m.\u001b[39massign(\u001b[38;5;28mself\u001b[39m\u001b[38;5;241m.\u001b[39mglobal_step, \u001b[38;5;241m0\u001b[39m)\n",
      "File \u001b[1;32md:\\anaconda3\\envs\\gmb\\lib\\site-packages\\tensorflow\\python\\training\\optimizer.py:601\u001b[0m, in \u001b[0;36mOptimizer.compute_gradients\u001b[1;34m(self, loss, var_list, gate_gradients, aggregation_method, colocate_gradients_with_ops, grad_loss)\u001b[0m\n\u001b[0;32m    599\u001b[0m processors \u001b[38;5;241m=\u001b[39m [_get_processor(v) \u001b[38;5;28;01mfor\u001b[39;00m v \u001b[38;5;129;01min\u001b[39;00m var_list]\n\u001b[0;32m    600\u001b[0m \u001b[38;5;28;01mif\u001b[39;00m \u001b[38;5;129;01mnot\u001b[39;00m var_list:\n\u001b[1;32m--> 601\u001b[0m   \u001b[38;5;28;01mraise\u001b[39;00m \u001b[38;5;167;01mValueError\u001b[39;00m(\u001b[38;5;124m\"\u001b[39m\u001b[38;5;124mNo variables to optimize.\u001b[39m\u001b[38;5;124m\"\u001b[39m)\n\u001b[0;32m    602\u001b[0m var_refs \u001b[38;5;241m=\u001b[39m [p\u001b[38;5;241m.\u001b[39mtarget() \u001b[38;5;28;01mfor\u001b[39;00m p \u001b[38;5;129;01min\u001b[39;00m processors]\n\u001b[0;32m    603\u001b[0m grads \u001b[38;5;241m=\u001b[39m gradients\u001b[38;5;241m.\u001b[39mgradients(\n\u001b[0;32m    604\u001b[0m     loss, var_refs, grad_ys\u001b[38;5;241m=\u001b[39mgrad_loss,\n\u001b[0;32m    605\u001b[0m     gate_gradients\u001b[38;5;241m=\u001b[39m(gate_gradients \u001b[38;5;241m==\u001b[39m Optimizer\u001b[38;5;241m.\u001b[39mGATE_OP),\n\u001b[0;32m    606\u001b[0m     aggregation_method\u001b[38;5;241m=\u001b[39maggregation_method,\n\u001b[0;32m    607\u001b[0m     colocate_gradients_with_ops\u001b[38;5;241m=\u001b[39mcolocate_gradients_with_ops)\n",
      "\u001b[1;31mValueError\u001b[0m: No variables to optimize."
     ]
    }
   ],
   "source": [
    "res = build(args)"
   ]
  },
  {
   "cell_type": "code",
   "execution_count": 17,
   "metadata": {},
   "outputs": [
    {
     "name": "stdout",
     "output_type": "stream",
     "text": [
      ";; 竞赛几何题：垂心对称点在外接圆上的性质\n",
      "\n",
      "(param (A B C) acute-tri) ; 定义锐角三角形ABC\n",
      "\n",
      "(define H point (orthocenter A B C)) ; H为垂心\n",
      "\n",
      "(define M point (midp B C)) ; M为BC中点\n",
      "\n",
      "(param D point) ; 定义自由点D\n",
      "\n",
      "(assert (= (midp H D) M)) ; 约束D为H关于M的对称点\n",
      "\n",
      "(define Gamma circle (circumcircle A B C)) ; 定义外接圆Gamma\n",
      "\n",
      "(eval (on-circ D Gamma)) ; 验证D在外接圆上\n",
      "\n",
      "##############################################\n",
      "{<primitives.Point object at 0x000001D292B90550>: TfPoint(x=-0.4203581436731315, y=2.838658589240161), <primitives.Point object at 0x000001D292B908B0>: TfPoint(x=-2.0, y=0.0), <primitives.Point object at 0x000001D292B90820>: TfPoint(x=2.0, y=0.0), <primitives.Point object at 0x000001D292B90EE0>: TfPoint(x=-0.4203581436731317, y=1.3468682163962105), <primitives.Point object at 0x000001D292B903D0>: TfPoint(x=0.0, y=0.0), <primitives.Point object at 0x000001D2883D18E0>: TfPoint(x=0.4171581259706714, y=-1.3457968271026655)}\n",
      "{}\n",
      "{<primitives.Circle object at 0x000001D2883D1DF0>: CircleNF(center=TfPoint(x=2.2044684514802256e-16, y=0.745895186421975), radius=2.134563100291831)}\n",
      "[(TfPoint(x=-0.4203581436731315, y=2.838658589240161), TfPoint(x=-2.0, y=0.0)), (TfPoint(x=-2.0, y=0.0), TfPoint(x=2.0, y=0.0)), (TfPoint(x=2.0, y=0.0), TfPoint(x=-0.4203581436731315, y=2.838658589240161))]\n",
      "[array([0.41545995, 0.73301087, 0.17569872]), array([0.41545995, 0.73301087, 0.17569872]), array([0.41545995, 0.73301087, 0.17569872])]\n",
      "[TfPoint(x=-0.001600008851230128, y=0.0005356946467724999)]\n",
      "[]\n",
      "[]\n",
      "{}\n",
      "{'on-circ_D_Gamma': 2.8176271917835656e-06}\n"
     ]
    }
   ],
   "source": [
    "for item in res[0]:\n",
    "    print(item)\n",
    "\n",
    "print('\\n##############################################')\n",
    "\n",
    "for item in res[1][0]:\n",
    "    print(item)"
   ]
  },
  {
   "cell_type": "code",
   "execution_count": 11,
   "metadata": {},
   "outputs": [
    {
     "name": "stdout",
     "output_type": "stream",
     "text": [
      "A\n",
      "(coords -0.420358 2.838659)\n",
      "B\n",
      "(coords -2.000000 0.000000)\n",
      "C\n",
      "(coords 2.000000 0.000000)\n",
      "H\n",
      "(coords -0.420358 1.346868)\n",
      "M\n",
      "(coords 0.000000 0.000000)\n",
      "D\n",
      "(coords 0.417158 -1.345797)\n",
      "Gamma\n",
      "CircleNF(center=TfPoint(x=2.2044684514802256e-16, y=0.745895186421975), radius=2.134563100291831)\n"
     ]
    }
   ],
   "source": [
    "for obj_name, obj in res[1][0].named_points.items():\n",
    "    print(obj_name)\n",
    "    print(obj)\n",
    "    (x, y) = obj\n",
    "\n",
    "for obj_name, obj in res[1][0].named_lines.items():\n",
    "    print(obj_name)\n",
    "    print(obj)\n",
    "    (x, y), r = obj\n",
    "    # slope = y/x, intercept = r\n",
    "\n",
    "for obj_name, obj in res[1][0].named_circles.items():\n",
    "    print(obj_name)\n",
    "    print(obj)\n",
    "    (x, y), r = obj"
   ]
  },
  {
   "cell_type": "code",
   "execution_count": null,
   "metadata": {},
   "outputs": [],
   "source": []
  }
 ],
 "metadata": {
  "kernelspec": {
   "display_name": "gmb",
   "language": "python",
   "name": "python3"
  },
  "language_info": {
   "codemirror_mode": {
    "name": "ipython",
    "version": 3
   },
   "file_extension": ".py",
   "mimetype": "text/x-python",
   "name": "python",
   "nbconvert_exporter": "python",
   "pygments_lexer": "ipython3",
   "version": "3.8.18"
  }
 },
 "nbformat": 4,
 "nbformat_minor": 2
}
