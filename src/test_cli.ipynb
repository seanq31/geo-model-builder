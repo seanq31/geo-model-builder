{
 "cells": [
  {
   "cell_type": "code",
   "execution_count": 3,
   "metadata": {},
   "outputs": [],
   "source": [
    "import argparse\n",
    "import pdb\n",
    "\n",
    "from builder import build\n",
    "from util import DEFAULTS"
   ]
  },
  {
   "cell_type": "code",
   "execution_count": null,
   "metadata": {},
   "outputs": [
    {
     "name": "stderr",
     "output_type": "stream",
     "text": [
      "usage: ipykernel_launcher.py [-h] [--problem PROBLEM] [--dir DIR]\n",
      "                             [--regularize_points REGULARIZE_POINTS]\n",
      "                             [--make_distinct MAKE_DISTINCT]\n",
      "                             [--distinct_prob DISTINCT_PROB]\n",
      "                             [--min_dist MIN_DIST] [--ndg_loss NDG_LOSS]\n",
      "                             [--n_models N_MODELS] [--n_tries N_TRIES]\n",
      "                             [--n_inits N_INITS] [--verbosity VERBOSITY]\n",
      "                             [--enforce_goals] [--plot_freq PLOT_FREQ]\n",
      "                             [--loss_freq LOSS_FREQ]\n",
      "                             [--losses_freq LOSSES_FREQ] [--unnamed_objects]\n",
      "                             [--no_unnamed_objects]\n",
      "                             [--learning_rate LEARNING_RATE]\n",
      "                             [--decay_steps DECAY_STEPS]\n",
      "                             [--decay_rate DECAY_RATE]\n",
      "                             [--n_iterations N_ITERATIONS] [--eps EPS]\n",
      "                             [--experiment]\n",
      "ipykernel_launcher.py: error: unrecognized arguments: --f=c:\\Users\\qinshenghao\\AppData\\Roaming\\jupyter\\runtime\\kernel-v34571c7dfaea1439ad129da61f81556d0a29c4c12.json\n"
     ]
    },
    {
     "ename": "SystemExit",
     "evalue": "2",
     "output_type": "error",
     "traceback": [
      "An exception has occurred, use %tb to see the full traceback.\n",
      "\u001b[1;31mSystemExit\u001b[0m\u001b[1;31m:\u001b[0m 2\n"
     ]
    }
   ],
   "source": [
    "# Parse arguments\n",
    "parser = argparse.ArgumentParser(description='Arguments for building a model that satisfies a set of geometry constraints')\n",
    "\n",
    "# General arguments\n",
    "parser.add_argument('--problem', '-p', action='store', type=str, help='Name of the file defining the set of constraints', default='problems/test/small1.smt2')\n",
    "parser.add_argument('--dir', '-d', action='store', type=str, help='Directory containing problem files.')\n",
    "parser.add_argument('--regularize_points', action='store', dest='regularize_points', type=float, default=DEFAULTS[\"regularize_points\"])\n",
    "parser.add_argument('--make_distinct', action='store', dest='make_distinct', type=float, default=DEFAULTS[\"make_distinct\"])\n",
    "parser.add_argument('--distinct_prob', action='store', dest='distinct_prob', type=float, default=DEFAULTS[\"distinct_prob\"])\n",
    "parser.add_argument('--min_dist', action='store', dest='min_dist', type=float, default=DEFAULTS[\"min_dist\"])\n",
    "parser.add_argument('--ndg_loss', action='store', dest='ndg_loss', type=float, default=DEFAULTS[\"ndg_loss\"])\n",
    "\n",
    "parser.add_argument('--n_models', action='store', dest='n_models', type=int, default=DEFAULTS['n_models'])\n",
    "parser.add_argument('--n_tries', action='store', dest='n_tries', type=int, default=DEFAULTS['n_tries'])\n",
    "parser.add_argument('--n_inits', action='store', dest='n_inits', type=int, default=DEFAULTS['n_inits'])\n",
    "parser.add_argument('--verbosity', action='store', dest='verbosity', type=int, default=DEFAULTS['verbosity'])\n",
    "parser.add_argument('--enforce_goals', dest='enforce_goals', action='store_true')\n",
    "parser.add_argument('--plot_freq', action='store', dest='plot_freq', type=int, default=DEFAULTS['plot_freq'])\n",
    "parser.add_argument('--loss_freq', action='store', dest='loss_freq', type=int, default=DEFAULTS['loss_freq'])\n",
    "parser.add_argument('--losses_freq', action='store', dest='losses_freq', type=int, default=DEFAULTS['losses_freq'])\n",
    "\n",
    "parser.add_argument('--unnamed_objects', dest='unnamed_objects', action='store_true')\n",
    "parser.add_argument('--no_unnamed_objects', dest='unnamed_objects', action='store_false')\n",
    "parser.set_defaults(unnamed_objects=True)\n",
    "\n",
    "# Tensorflow arguments\n",
    "parser.add_argument('--learning_rate', action='store', dest='learning_rate', type=float, default=DEFAULTS[\"learning_rate\"])\n",
    "parser.add_argument('--decay_steps', action='store', dest='decay_steps', type=float, default=DEFAULTS[\"decay_steps\"])\n",
    "parser.add_argument('--decay_rate', action='store', dest='decay_rate', type=float, default=DEFAULTS[\"decay_rate\"])\n",
    "parser.add_argument('--n_iterations', action='store', dest='n_iterations', type=int, default=DEFAULTS[\"n_iterations\"])\n",
    "parser.add_argument('--eps', action='store', dest='eps', type=float, default=DEFAULTS[\"eps\"])\n",
    "\n",
    "parser.add_argument('--experiment', dest='experiment', action='store_true')\n",
    "\n",
    "\n",
    "args = parser.parse_args()\n",
    "args = vars(args)\n"
   ]
  },
  {
   "cell_type": "code",
   "execution_count": null,
   "metadata": {},
   "outputs": [],
   "source": [
    "lines = open(args['problem'], 'r').readlines()\n",
    "args['lines'] = lines"
   ]
  },
  {
   "cell_type": "code",
   "execution_count": null,
   "metadata": {},
   "outputs": [],
   "source": [
    "build(args)"
   ]
  }
 ],
 "metadata": {
  "kernelspec": {
   "display_name": "gmb",
   "language": "python",
   "name": "python3"
  },
  "language_info": {
   "codemirror_mode": {
    "name": "ipython",
    "version": 3
   },
   "file_extension": ".py",
   "mimetype": "text/x-python",
   "name": "python",
   "nbconvert_exporter": "python",
   "pygments_lexer": "ipython3",
   "version": "3.8.18"
  }
 },
 "nbformat": 4,
 "nbformat_minor": 2
}
