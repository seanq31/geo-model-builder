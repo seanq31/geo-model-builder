{
 "cells": [
  {
   "cell_type": "code",
   "execution_count": 126,
   "metadata": {},
   "outputs": [],
   "source": [
    "from openai import OpenAI\n",
    "import re\n",
    "\n",
    "client = OpenAI(\n",
    "    api_key = \"c8a7e43e-cce1-4d61-af75-de350b7e5731\",\n",
    "    base_url = \"https://ark.cn-beijing.volces.com/api/v3\",\n",
    ")"
   ]
  },
  {
   "cell_type": "code",
   "execution_count": 127,
   "metadata": {},
   "outputs": [],
   "source": [
    "import argparse\n",
    "import pdb\n",
    "\n",
    "from builder import build\n",
    "from util import DEFAULTS"
   ]
  },
  {
   "cell_type": "code",
   "execution_count": 128,
   "metadata": {},
   "outputs": [],
   "source": [
    "# print(\"----- standard request -----\")\n",
    "# completion = client.chat.completions.create(\n",
    "#     model = \"deepseek-r1-250120\",  # your model endpoint ID\n",
    "#     messages = [\n",
    "#         {\n",
    "#             \"role\": \"user\", \n",
    "#             \"content\": \"1+1=?\"\n",
    "#         },\n",
    "#     ],\n",
    "# )"
   ]
  },
  {
   "cell_type": "code",
   "execution_count": 129,
   "metadata": {},
   "outputs": [],
   "source": [
    "# print(\"----- Reasoning content -----\")\n",
    "# print(completion.choices[0].message.reasoning_content)"
   ]
  },
  {
   "cell_type": "code",
   "execution_count": 130,
   "metadata": {},
   "outputs": [],
   "source": [
    "# print(\"----- Content -----\")\n",
    "# print(completion.choices[0].message.content)"
   ]
  },
  {
   "cell_type": "code",
   "execution_count": null,
   "metadata": {},
   "outputs": [],
   "source": []
  },
  {
   "cell_type": "code",
   "execution_count": 131,
   "metadata": {},
   "outputs": [],
   "source": [
    "filename = '..\\grammar_example.txt'\n",
    "with open(filename) as file:\n",
    "        grammer_example = [line for line in file]\n",
    "grammer_example = ''.join(grammer_example)"
   ]
  },
  {
   "cell_type": "code",
   "execution_count": null,
   "metadata": {},
   "outputs": [],
   "source": [
    "quest = '根据文档中的GMBL的语法和示例，使用GMBL语法，生成一道角度计算相关的简单几何题的代码。请确保每个点在使用前都已经定义过，确保符合示例的GMBL语法，确保每一句语句都写在同一行，确保GMBL输入的角度是弧度制，确保没有直接定义数值对象。'"
   ]
  },
  {
   "cell_type": "code",
   "execution_count": 133,
   "metadata": {},
   "outputs": [],
   "source": [
    "messages = [{\n",
    "    \"role\": \"user\", \n",
    "    \"content\": grammer_example + '\\n\\n' + quest\n",
    "    }]"
   ]
  },
  {
   "cell_type": "code",
   "execution_count": 134,
   "metadata": {},
   "outputs": [
    {
     "name": "stdout",
     "output_type": "stream",
     "text": [
      "好的，我需要根据用户的要求，使用GMBL语法生成一道角度计算相关的几何题。首先，我需要回顾一下用户提供的文档内容，确保自己正确理解各个函数、断言和参数化的用法。\n",
      "\n",
      "用户希望题目涉及角度计算，所以可能需要用到uangle这个函数来获取角度值，然后在eval中使用等式或比较断言来验证某个角度是否符合预期。同时，要确保每个点在使用前都已定义，并且符合GMBL的语法规则，比如先定义点、线、圆等对象，再使用它们进行断言或计算。\n",
      "\n",
      "接下来，考虑构造一个三角形，可能需要使用param来参数化一个三角形，比如使用acute-tri（锐角三角形）或者iso-tri（等腰三角形），这样可以确保某些角度特性。例如，可以创建一个等腰三角形，然后通过计算某些中点或垂线，形成其他点，进而计算角度。\n",
      "\n",
      "例如，构造一个等腰三角形ABC，其中AB=AC，然后计算其某个点的垂足或者中点，再验证某个角度是否为特定值。或者，考虑三角形的内心、外心等特殊点，这些点可能涉及角平分线，从而产生特定角度。\n",
      "\n",
      "不过，用户提到要确保没有直接定义数值对象，所以可能需要通过运算来构造角度值，例如使用mul和pi来组合，比如将pi乘以0.25表示45度（π/4弧度）。同时，要避免直接写数字，而是通过运算表达式来生成数值。\n",
      "\n",
      "比如，设定一个三角形的两个角，然后通过三角形内角和为π的性质，计算第三个角，并在eval中验证是否符合。\n",
      "\n",
      "举个例子：\n",
      "\n",
      "1. 参数化一个三角形ABC，例如等腰三角形。\n",
      "2. 定义某个中点或垂线，如垂足或重心。\n",
      "3. 使用uangle函数获取某个角度，并通过运算（如mul、div）来构造预期的角度值。\n",
      "4. 在eval中断言该角度等于计算后的值。\n",
      "\n",
      "具体步骤可能如下：\n",
      "\n",
      "- 使用(param (A B C) (iso-tri B))定义等腰三角形，其中B为顶点，BA=BC。\n",
      "- 定义D为B到AC边的垂足（使用foot函数）。\n",
      "- 计算角ABD的角度是否等于某个值，比如π/4。\n",
      "- 但是需要确保角度计算基于几何关系，比如通过已知角度推导。\n",
      "\n",
      "或者，考虑构造一个直角三角形，其中已知一个角为π/4，另一个为π/4，那么第三个角应为π/2。但这样可能太简单，需要更复杂的情况。\n",
      "\n",
      "另一个例子是，使用三角形ABC，并定义其中点M、N，连接线段，形成新的角，然后验证该角是否为特定值。例如，在三角形中，中点连线可能形成平行线，从而产生相等的角度。\n",
      "\n",
      "或者，使用外心或垂心等特殊点，构造角度关系。\n",
      "\n",
      "例如，构造一个三角形ABC，定义其垂心H，然后计算角HBC的度数，可能等于某个由其他角度推导出的值。\n",
      "\n",
      "现在，我需要确保所有定义的点在使用前已经被正确参数化或定义，并且所有函数调用符合语法。例如，使用param定义三角形，然后定义垂足、中点等，最后进行断言。\n",
      "\n",
      "可能的代码结构：\n",
      "\n",
      "(param (A B C) triangle) 或者更具体的参数化，如(param (A B C) (right-tri B))，即B为直角。\n",
      "定义垂足D为foot到某条边。\n",
      "定义中点M、N。\n",
      "使用uangle计算某个角，然后断言其等于通过运算得到的值，比如(mul pi 0.25)。\n",
      "\n",
      "但需要注意，在GMBL中，角度计算可能需要通过其他几何关系来间接证明，而不仅仅是数值计算。例如，通过相似三角形、全等三角形或平行线等性质来得到角度相等。\n",
      "\n",
      "例如，构造一个等腰三角形，顶角为已知值，底角相等，然后通过某个点的中点或垂线，形成另一个角，该角等于底角的一半，或者等于顶角的一半，从而在eval中断言这个关系。\n",
      "\n",
      "现在，我需要具体写出这样的代码：\n",
      "\n",
      "例如：\n",
      "\n",
      "(param (A B C) (iso-tri B)) ;; 等腰三角形，BA=BC\n",
      "(define D point (foot B (line A C))) ;; B到AC的垂足D\n",
      "(assert (= (uangle B D A) (div (uangle B A C) 2))) \n",
      "\n",
      "但这里可能需要更多的步骤，或者确保D已经被正确定义，并且相关的角度计算是可行的。\n",
      "\n",
      "或者，使用已知的角度，比如在等腰三角形中，顶角为θ，底角为(π-θ)/2。然后通过某种构造，使得某个角等于底角，或者顶角的一半，从而在eval中验证。\n",
      "\n",
      "例如，顶角B为θ，底角A和C各为(π-θ)/2。然后定义D为底边AC的中点，连接BD，那么角ABD可能等于底角的一半，或者类似的关系。\n",
      "\n",
      "但可能需要更具体的几何构造。\n",
      "\n",
      "另一个例子，构造一个三角形ABC，其中角B被某条中线分成两个特定的角度，然后验证其中一个角度是否符合预期。\n",
      "\n",
      "或者，使用外心或内心，这些点可能产生特定的角度关系。\n",
      "\n",
      "比如，在三角形ABC中，定义内心I，然后计算角BIC的度数，应该等于π/2加上角A的一半，但需要验证是否可以通过GMBL的函数来表达。\n",
      "\n",
      "不过，这可能涉及到更复杂的几何知识，需要确保在GMBL中有对应的函数来计算这些点。\n",
      "\n",
      "例如：\n",
      "\n",
      "(param (A B C) triangle)\n",
      "(define I point (incenter A B C))\n",
      "(eval (= (uangle B I C) (add (div (uangle A B C) 2) (div (uangle A C B) 2)))) \n",
      "\n",
      "但这样的断言可能太直接，或者需要更复杂的构造。\n",
      "\n",
      "现在，我需要确保代码符合GMBL语法：\n",
      "\n",
      "- 每个参数化和定义都正确。\n",
      "- 使用正确的函数名称，比如uangle的参数顺序是否正确？根据文档，uangle A B C是角ABC的角度，即顶点在B。\n",
      "- 确保在assert或eval中使用正确的断言，例如(= N1 N2)用于数值相等。\n",
      "\n",
      "现在，根据这些思考，我来构造一个具体的例子：\n",
      "\n",
      "题目：在等腰三角形ABC中，AB=AC，顶角A的角度为π/3弧度。D是BC的中点。验证角BAD等于π/6。\n",
      "\n",
      "根据这个题目，转换为GMBL代码：\n",
      "\n",
      "1. 参数化等腰三角形ABC，顶点A，AB=AC。根据文档中的param示例，(param (P Q R) (iso-tri Q))表示等腰三角形PQR，QP=QR。所以这里应该写成(param (A B C) (iso-tri A))，这样AB=AC？\n",
      "\n",
      "或者，需要确认参数化的正确形式。根据文档中的示例：\n",
      "\n",
      "(param (P Q R) (iso-tri Q)) 表示等腰三角形PQR，且QP=QR。因此顶点是Q，两边QP和QR相等。因此，如果我要构造AB=AC的等腰三角形，顶点是A，那么参数化应该是(param (A B C) (iso-tri A))，这样AB=AC。\n",
      "\n",
      "2. 定义D为BC的中点：使用midp函数，(define D point (midp B C))。\n",
      "\n",
      "3. 计算角BAD的角度，即uangle B A D。根据题意，期望这个角度等于π/6，即(div pi 6)。但需要确保在GMBL中不能直接使用数值，必须通过运算表达式，比如(mul pi (div 1 6))或者(div pi 6)。\n",
      "\n",
      "不过，在GMBL中是否允许div的两个参数都是数值？例如，(div 1 6)可能不行，因为参数必须是已定义的对象或数值，但根据文档中的函数，div的参数是N1和N2，可能允许数值表达式。但根据用户的要求，不能直接定义数值对象，所以可能需要用其他方式，比如通过已知的运算来构造。\n",
      "\n",
      "例如，顶角A的角度是π/3，在等腰三角形中，底角B和C各为(π - π/3)/2 = π/3。这可能不对，因为等腰三角形的底角应该相等，顶角为π/3的话，底角应该是 (π - π/3)/2 = π/3，这样三角形内角和为π/3 + π/3 + π/3 = π，这显然不对。说明这里可能有错误。\n",
      "\n",
      "哦，顶角是A的话，角BAC=π/3，那么底角B和C的角度是(π - π/3)/2 = (2π/3)/2 = π/3。这样三个角都是π/3，等边三角形。这可能不符合用户的要求，因为等边三角形是特殊的等腰三角形，但用户可能需要不同的情况。\n",
      "\n",
      "所以可能需要调整顶角的角度，例如设为2π/5，这样底角为(π - 2π/5)/2 = 3π/10。然后D是BC的中点，连接AD，那么角BAD可能等于顶角的一半，即π/5，但需要几何证明。\n",
      "\n",
      "或者，是否存在这样的几何关系，当D是BC的中点时，AD是角平分线，因此角BAD等于顶角的一半？\n",
      "\n",
      "在等腰三角形中，底边的中线、高线、角平分线三线合一，因此AD既是中线，也是高和角平分线。因此，角BAD应该是顶角的一半。\n",
      "\n",
      "所以，如果顶角A是π/3，那么角BAD应该是π/6。这种情况下，代码中的断言可以是：\n",
      "\n",
      "(assert (= (uangle B A C) (div pi 3))) ;; 顶角为π/3\n",
      "(eval (= (uangle B A D) (div pi 6))) ;; 角BAD=π/6\n",
      "\n",
      "但根据GMBL语法，uangle的参数顺序是顶点在中间，所以角BAC是uangle A B C中的参数顺序可能需要确认。根据文档中的描述，(uangle A B C) 表示角ABC的角度，顶点是B。因此，角BAC的表示应该是uangle B A C，即顶点在A，两边是B和C。所以，顶角A的角度是uangle B A C，而角BAD是uangle B A D。\n",
      "\n",
      "现在，构造GMBL代码：\n",
      "\n",
      "(param (A B C) (iso-tri A)) ;; 等腰三角形，AB=AC，顶点A\n",
      "(define D point (midp B C)) ;; D是BC的中点\n",
      "(assert (= (uangle B A C) (div pi 3))) ;; 顶角A设为π/3\n",
      "(eval (= (uangle B A D) (div pi 6))) ;; 验证角BAD是否为π/6\n",
      "\n",
      "但根据等腰三角形的性质，AD是角平分线，所以角BAD应该是顶角的一半，即(div (uangle B A C) 2)，所以可以断言：\n",
      "\n",
      "(eval (= (uangle B A D) (div (uangle B A C) 2)))\n",
      "\n",
      "这可能更符合几何性质，而不需要直接使用数值，但用户希望的是角度计算相关的题目，可能希望用具体的数值。比如，通过断言顶角为π/3，然后验证角BAD为π/6。\n",
      "\n",
      "但根据用户的要求，确保没有直接定义数值对象，所以顶角的π/3需要通过运算得到，比如(div pi 3)。这应该可以，因为pi是一个已定义的数，而div是允许的函数。\n",
      "\n",
      "因此，整个代码可能如下：\n",
      "\n",
      "(param (A B C) (iso-tri A)) ;; 等腰三角形ABC，AB=AC\n",
      "(assert (= (uangle B A C) (div pi 3))) ;; 顶角A设为π/3弧度\n",
      "(define D point (midp B C)) ;; D是BC的中点\n",
      "(eval (= (uangle B A D) (div pi 6))) ;; 角BAD等于π/6\n",
      "\n",
      "但需要确认在GMBL中，这样的assert是否允许。因为param中的等腰三角形可能已经隐含了某些角度关系，但在这里通过assert进一步约束顶角为π/3。这样，D作为中点，AD作为角平分线，那么角BAD应该等于π/6。\n",
      "\n",
      "这样的代码是否符合GMBL的语法？需要检查每个部分：\n",
      "\n",
      "- param语句正确，使用(iso-tri A)来定义等腰三角形。\n",
      "- assert语句正确，使用(= ...)比较两个数值表达式。\n",
      "- define语句正确，使用midp函数定义D。\n",
      "- eval语句正确，比较计算后的角度是否等于div pi 6。\n",
      "\n",
      "因此，这个例子应该满足用户的要求，涉及角度计算，使用uangle函数和数值运算，没有直接定义数值对象，所有点在使用前已定义。\n",
      "\n",
      "可能还需要考虑是否需要其他定义，例如线段的定义，但在这个例子中，midp已经足够，因为midp B C返回点D，作为线段BC的中点，不需要额外的线段定义。\n",
      "\n",
      "另一个可能的例子是使用垂心或其他点，但上面的例子已经足够简单且符合要求。\n",
      "\n",
      "\n",
      "```gmb\n",
      "(param (A B C) (iso-tri A))\n",
      "(assert (= (uangle B A C) (mul pi (div 2 5))))\n",
      "(define D point (midp B C))\n",
      "(define E point (foot D (line A B)))\n",
      "(eval (= (uangle A D E) (mul pi (div 1 5))))\n",
      "```\n",
      "\n",
      "该代码构造了一个顶角为2π/5的等腰三角形ABC，定义中点D后作D到AB边的垂足E，最后验证角ADE的度数为π/5。通过等腰三角形性质、中点定义和垂足操作，形成角度验证关系，符合GMBL语法且没有直接使用数值对象。"
     ]
    }
   ],
   "source": [
    "response = client.chat.completions.create(\n",
    "    # 替换 <Model> 为模型的Model ID\n",
    "    model=\"deepseek-r1-250120\",\n",
    "    messages=messages,\n",
    "    stream=True,\n",
    ")\n",
    "reasoning_content = \"\"\n",
    "content = \"\"\n",
    "\n",
    "for chunk in response:\n",
    "    if hasattr(chunk.choices[0].delta, 'reasoning_content') and chunk.choices[0].delta.reasoning_content:\n",
    "        reasoning_content += chunk.choices[0].delta.reasoning_content\n",
    "        print(chunk.choices[0].delta.reasoning_content, end=\"\")\n",
    "    else:\n",
    "        content += chunk.choices[0].delta.content\n",
    "        print(chunk.choices[0].delta.content, end=\"\")"
   ]
  },
  {
   "cell_type": "code",
   "execution_count": 135,
   "metadata": {},
   "outputs": [
    {
     "name": "stdout",
     "output_type": "stream",
     "text": [
      "\n",
      "\n",
      "```gmb\n",
      "(param (A B C) (iso-tri A))\n",
      "(assert (= (uangle B A C) (mul pi (div 2 5))))\n",
      "(define D point (midp B C))\n",
      "(define E point (foot D (line A B)))\n",
      "(eval (= (uangle A D E) (mul pi (div 1 5))))\n",
      "```\n",
      "\n",
      "该代码构造了一个顶角为2π/5的等腰三角形ABC，定义中点D后作D到AB边的垂足E，最后验证角ADE的度数为π/5。通过等腰三角形性质、中点定义和垂足操作，形成角度验证关系，符合GMBL语法且没有直接使用数值对象。\n"
     ]
    },
    {
     "data": {
      "text/plain": [
       "'\\n\\n```gmb\\n(param (A B C) (iso-tri A))\\n(assert (= (uangle B A C) (mul pi (div 2 5))))\\n(define D point (midp B C))\\n(define E point (foot D (line A B)))\\n(eval (= (uangle A D E) (mul pi (div 1 5))))\\n```\\n\\n该代码构造了一个顶角为2π/5的等腰三角形ABC，定义中点D后作D到AB边的垂足E，最后验证角ADE的度数为π/5。通过等腰三角形性质、中点定义和垂足操作，形成角度验证关系，符合GMBL语法且没有直接使用数值对象。'"
      ]
     },
     "execution_count": 135,
     "metadata": {},
     "output_type": "execute_result"
    }
   ],
   "source": [
    "print(content)\n",
    "content"
   ]
  },
  {
   "cell_type": "code",
   "execution_count": 136,
   "metadata": {},
   "outputs": [
    {
     "name": "stdout",
     "output_type": "stream",
     "text": [
      "['(param (A B C) (iso-tri A))', '(assert (= (uangle B A C) (mul pi (div 2 5))))', '(define D point (midp B C))', '(define E point (foot D (line A B)))', '(eval (= (uangle A D E) (mul pi (div 1 5))))']\n"
     ]
    }
   ],
   "source": [
    "re_find = re.finditer('```', content)\n",
    "inds = []\n",
    "for ind in re_find:\n",
    "    inds += [ind.span()]\n",
    "assert(len(inds) == 2)\n",
    "\n",
    "lines = content[inds[0][1] : inds[1][0]]\n",
    "lines = lines.splitlines()[1:]\n",
    "\n",
    "print(lines)"
   ]
  },
  {
   "cell_type": "code",
   "execution_count": 137,
   "metadata": {},
   "outputs": [],
   "source": [
    "# Parse arguments\n",
    "parser = argparse.ArgumentParser(description='Arguments for building a model that satisfies a set of geometry constraints')\n",
    "\n",
    "# General arguments\n",
    "parser.add_argument('--problem', '-p', action='store', type=str, help='Name of the file defining the set of constraints')\n",
    "parser.add_argument('--dir', '-d', action='store', type=str, help='Directory containing problem files.')\n",
    "parser.add_argument('--regularize_points', action='store', dest='regularize_points', type=float, default=DEFAULTS[\"regularize_points\"])\n",
    "parser.add_argument('--make_distinct', action='store', dest='make_distinct', type=float, default=DEFAULTS[\"make_distinct\"])\n",
    "parser.add_argument('--distinct_prob', action='store', dest='distinct_prob', type=float, default=DEFAULTS[\"distinct_prob\"])\n",
    "parser.add_argument('--min_dist', action='store', dest='min_dist', type=float, default=DEFAULTS[\"min_dist\"])\n",
    "parser.add_argument('--ndg_loss', action='store', dest='ndg_loss', type=float, default=DEFAULTS[\"ndg_loss\"])\n",
    "\n",
    "parser.add_argument('--n_models', action='store', dest='n_models', type=int, default=DEFAULTS['n_models'])\n",
    "parser.add_argument('--n_tries', action='store', dest='n_tries', type=int, default=DEFAULTS['n_tries'])\n",
    "parser.add_argument('--n_inits', action='store', dest='n_inits', type=int, default=DEFAULTS['n_inits'])\n",
    "parser.add_argument('--verbosity', action='store', dest='verbosity', type=int, default=DEFAULTS['verbosity'])\n",
    "parser.add_argument('--enforce_goals', dest='enforce_goals', action='store_true')\n",
    "parser.add_argument('--plot_freq', action='store', dest='plot_freq', type=int, default=DEFAULTS['plot_freq'])\n",
    "parser.add_argument('--loss_freq', action='store', dest='loss_freq', type=int, default=DEFAULTS['loss_freq'])\n",
    "parser.add_argument('--losses_freq', action='store', dest='losses_freq', type=int, default=DEFAULTS['losses_freq'])\n",
    "\n",
    "parser.add_argument('--unnamed_objects', dest='unnamed_objects', action='store_true')\n",
    "parser.add_argument('--no_unnamed_objects', dest='unnamed_objects', action='store_false')\n",
    "parser.set_defaults(unnamed_objects=True)\n",
    "\n",
    "# Tensorflow arguments\n",
    "parser.add_argument('--learning_rate', action='store', dest='learning_rate', type=float, default=DEFAULTS[\"learning_rate\"])\n",
    "parser.add_argument('--decay_steps', action='store', dest='decay_steps', type=float, default=DEFAULTS[\"decay_steps\"])\n",
    "parser.add_argument('--decay_rate', action='store', dest='decay_rate', type=float, default=DEFAULTS[\"decay_rate\"])\n",
    "parser.add_argument('--n_iterations', action='store', dest='n_iterations', type=int, default=DEFAULTS[\"n_iterations\"])\n",
    "parser.add_argument('--eps', action='store', dest='eps', type=float, default=DEFAULTS[\"eps\"])\n",
    "\n",
    "parser.add_argument('--experiment', dest='experiment', action='store_true')\n",
    "\n",
    "parser.add_argument(\"--f\", type=str, default='abc.def')\n",
    "\n",
    "\n",
    "args = parser.parse_args()\n",
    "args = vars(args)"
   ]
  },
  {
   "cell_type": "code",
   "execution_count": 138,
   "metadata": {},
   "outputs": [
    {
     "data": {
      "text/plain": [
       "['(param (A B C) (iso-tri A))',\n",
       " '(assert (= (uangle B A C) (mul pi (div 2 5))))',\n",
       " '(define D point (midp B C))',\n",
       " '(define E point (foot D (line A B)))',\n",
       " '(eval (= (uangle A D E) (mul pi (div 1 5))))']"
      ]
     },
     "execution_count": 138,
     "metadata": {},
     "output_type": "execute_result"
    }
   ],
   "source": [
    "args['n_tries'] = 10\n",
    "args['eps'] = 3e-4\n",
    "\n",
    "args['lines'] = lines\n",
    "lines"
   ]
  },
  {
   "cell_type": "code",
   "execution_count": 139,
   "metadata": {},
   "outputs": [
    {
     "name": "stderr",
     "output_type": "stream",
     "text": [
      "Processing instructions...:  40%|████      | 2/5 [00:00<00:00, 19.68it/s]"
     ]
    },
    {
     "name": "stdout",
     "output_type": "stream",
     "text": [
      "INPUT INSTRUCTIONS:\n",
      "sample (A B C) iso-tri (A)\n",
      "assert (eq-n (uangle B A C) (mul 3.141592653589793 (div 2.0 5.0)))\n",
      "define D ((midp B C))\n",
      "define E ((foot D (connecting A B)))\n",
      "eval (eq-n (uangle A D E) (mul 3.141592653589793 (div 1.0 5.0)))\n"
     ]
    },
    {
     "name": "stderr",
     "output_type": "stream",
     "text": [
      "Processing instructions...: 100%|██████████| 5/5 [00:00<00:00, 12.51it/s]\n",
      "Sampling initializations...: 100%|██████████| 10/10 [00:18<00:00,  1.81s/it]\n"
     ]
    },
    {
     "name": "stdout",
     "output_type": "stream",
     "text": [
      "[     0]   0.006607196098 ||   0.100000\n",
      "======== Print losses ==========\n",
      "-- Losses --\n",
      "  eq-n_(uangle B A C)_(mul 3.141592653589793 (div 2.0 5.0)) 0.0066045725\n",
      "  points                                             0.0000026236\n",
      "  distinct                                           0.0000000000\n",
      "-- Goals --\n",
      "  eq-n_(uangle A D E)_(mul 3.141592653589793 (div 1.0 5.0)) 0.0748159472\n",
      "-- NDGs --\n",
      "================================\n"
     ]
    },
    {
     "data": {
      "image/png": "[encoded data removed]",
      "text/plain": [
       "<Figure size 640x480 with 1 Axes>"
      ]
     },
     "metadata": {},
     "output_type": "display_data"
    },
    {
     "name": "stdout",
     "output_type": "stream",
     "text": [
      "======== Print losses ==========\n",
      "-- Losses --\n",
      "  eq-n_(uangle B A C)_(mul 3.141592653589793 (div 2.0 5.0)) 0.0000187166\n",
      "  points                                             0.0000027928\n",
      "  distinct                                           0.0000000000\n",
      "-- Goals --\n",
      "  eq-n_(uangle A D E)_(mul 3.141592653589793 (div 1.0 5.0)) 0.0973416081\n",
      "-- NDGs --\n",
      "================================\n",
      "\n",
      "\n",
      "Found 1 models\n"
     ]
    },
    {
     "data": {
      "image/png": "[encoded data removed]",
      "text/plain": [
       "<Figure size 640x480 with 1 Axes>"
      ]
     },
     "metadata": {},
     "output_type": "display_data"
    }
   ],
   "source": [
    "res = build(args)"
   ]
  },
  {
   "cell_type": "code",
   "execution_count": 140,
   "metadata": {},
   "outputs": [
    {
     "name": "stdout",
     "output_type": "stream",
     "text": [
      "(param (A B C) (iso-tri A))\n",
      "(assert (= (uangle B A C) (mul pi (div 2 5))))\n",
      "(define D point (midp B C))\n",
      "(define E point (foot D (line A B)))\n",
      "(eval (= (uangle A D E) (mul pi (div 1 5))))\n",
      "\n",
      "##############################################\n",
      "{<primitives.Point object at 0x00000214AB650520>: TfPoint(x=0.0, y=2.7402791294016904), <primitives.Point object at 0x00000214AB650A30>: TfPoint(x=-2.0, y=0.0), <primitives.Point object at 0x00000214AB650CA0>: TfPoint(x=2.0, y=0.0), <primitives.Point object at 0x00000214AB650E50>: TfPoint(x=0.0, y=0.0), <primitives.Point object at 0x00000214AB6503A0>: TfPoint(x=-1.3048996576074448, y=0.9523844805491437)}\n",
      "{}\n",
      "{}\n",
      "[(TfPoint(x=0.0, y=2.7402791294016904), TfPoint(x=-2.0, y=0.0)), (TfPoint(x=-2.0, y=0.0), TfPoint(x=2.0, y=0.0)), (TfPoint(x=2.0, y=0.0), TfPoint(x=0.0, y=2.7402791294016904))]\n",
      "[array([0.30793651, 0.03918341, 0.43156913]), array([0.30793651, 0.03918341, 0.43156913]), array([0.30793651, 0.03918341, 0.43156913])]\n",
      "[]\n",
      "[LineNF(n=TfPoint(x=-0.8077436652823237, y=0.589533859244978), r=1.615487330564647)]\n",
      "[]\n",
      "{}\n",
      "{'eq-n_(uangle A D E)_(mul 3.141592653589793 (div 1.0 5.0))': 0.09734160814101589}\n"
     ]
    }
   ],
   "source": [
    "for item in res[0]:\n",
    "    print(item)\n",
    "\n",
    "print('\\n##############################################')\n",
    "\n",
    "for item in res[1][0]:\n",
    "    print(item)"
   ]
  },
  {
   "cell_type": "code",
   "execution_count": 141,
   "metadata": {},
   "outputs": [
    {
     "name": "stdout",
     "output_type": "stream",
     "text": [
      "A\n",
      "(coords 0.000000 2.740279)\n",
      "B\n",
      "(coords -2.000000 0.000000)\n",
      "C\n",
      "(coords 2.000000 0.000000)\n",
      "D\n",
      "(coords 0.000000 0.000000)\n",
      "E\n",
      "(coords -1.304900 0.952384)\n"
     ]
    }
   ],
   "source": [
    "for obj_name, obj in res[1][0].named_points.items():\n",
    "    print(obj_name)\n",
    "    print(obj)\n",
    "    (x, y) = obj\n",
    "\n",
    "for obj_name, obj in res[1][0].named_lines.items():\n",
    "    print(obj_name)\n",
    "    print(obj)\n",
    "    (x, y), r = obj\n",
    "    # slope = y/x, intercept = r\n",
    "\n",
    "for obj_name, obj in res[1][0].named_circles.items():\n",
    "    print(obj_name)\n",
    "    print(obj)\n",
    "    (x, y), r = obj"
   ]
  },
  {
   "cell_type": "code",
   "execution_count": null,
   "metadata": {},
   "outputs": [],
   "source": []
  }
 ],
 "metadata": {
  "kernelspec": {
   "display_name": "gmb",
   "language": "python",
   "name": "python3"
  },
  "language_info": {
   "codemirror_mode": {
    "name": "ipython",
    "version": 3
   },
   "file_extension": ".py",
   "mimetype": "text/x-python",
   "name": "python",
   "nbconvert_exporter": "python",
   "pygments_lexer": "ipython3",
   "version": "3.8.18"
  }
 },
 "nbformat": 4,
 "nbformat_minor": 2
}
