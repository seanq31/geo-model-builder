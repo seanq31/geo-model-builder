{
 "cells": [
  {
   "cell_type": "code",
   "execution_count": 206,
   "metadata": {},
   "outputs": [],
   "source": [
    "from openai import OpenAI\n",
    "import re\n",
    "\n",
    "client = OpenAI(\n",
    "    api_key = \"c8a7e43e-cce1-4d61-af75-de350b7e5731\",\n",
    "    base_url = \"https://ark.cn-beijing.volces.com/api/v3\",\n",
    ")"
   ]
  },
  {
   "cell_type": "code",
   "execution_count": 207,
   "metadata": {},
   "outputs": [],
   "source": [
    "import argparse\n",
    "import pdb\n",
    "\n",
    "from builder import build\n",
    "from util import DEFAULTS"
   ]
  },
  {
   "cell_type": "code",
   "execution_count": 208,
   "metadata": {},
   "outputs": [],
   "source": [
    "# print(\"----- standard request -----\")\n",
    "# completion = client.chat.completions.create(\n",
    "#     model = \"deepseek-r1-250120\",  # your model endpoint ID\n",
    "#     messages = [\n",
    "#         {\n",
    "#             \"role\": \"user\", \n",
    "#             \"content\": \"1+1=?\"\n",
    "#         },\n",
    "#     ],\n",
    "# )"
   ]
  },
  {
   "cell_type": "code",
   "execution_count": 209,
   "metadata": {},
   "outputs": [],
   "source": [
    "# print(\"----- Reasoning content -----\")\n",
    "# print(completion.choices[0].message.reasoning_content)"
   ]
  },
  {
   "cell_type": "code",
   "execution_count": 210,
   "metadata": {},
   "outputs": [],
   "source": [
    "#print(\"----- Content -----\")\n",
    "#print(completion.choices[0].message.content)"
   ]
  },
  {
   "cell_type": "code",
   "execution_count": null,
   "metadata": {},
   "outputs": [],
   "source": []
  },
  {
   "cell_type": "code",
   "execution_count": 211,
   "metadata": {},
   "outputs": [],
   "source": [
    "filename = '..\\grammar_example_wo-tri.txt'\n",
    "with open(filename) as file:\n",
    "        grammer_example = [line for line in file]\n",
    "grammer_example = ''.join(grammer_example)"
   ]
  },
  {
   "cell_type": "code",
   "execution_count": 212,
   "metadata": {},
   "outputs": [],
   "source": [
    "quest = '根据文档中的GMBL的语法和示例，使用GMBL语法，生成一道直角三角形长度计算相关的简单几何题的代码。请确保每个点在使用前都已经定义过，确保符合示例的GMBL语法，确保每一句语句都写在同一行，确保GMBL输入的角度是弧度制，确保没有直接定义数值对象。'"
   ]
  },
  {
   "cell_type": "code",
   "execution_count": 213,
   "metadata": {},
   "outputs": [],
   "source": [
    "messages = [{\n",
    "    \"role\": \"user\", \n",
    "    \"content\": grammer_example + '\\n\\n' + quest\n",
    "    }]"
   ]
  },
  {
   "cell_type": "code",
   "execution_count": 214,
   "metadata": {},
   "outputs": [
    {
     "name": "stdout",
     "output_type": "stream",
     "text": [
      "好的，我需要根据用户的要求，用GMBL语法生成一道关于直角三角形长度计算的简单几何题。首先，我得回忆一下GMBL的语法规则，确保每一步都正确，并且符合用户提供的文档中的示例。\n",
      "\n",
      "首先，题目是关于直角三角形的边长计算。通常，直角三角形的问题可能涉及勾股定理或者利用面积、垂足等概念。我需要构造一个直角三角形，比如直角顶点在C，然后其他两个顶点是A和B。这样，AC和BC是直角边，AB是斜边。\n",
      "\n",
      "接下来，我需要用GMBL的param、define、assert和eval语句来定义点和条件，并验证某个结论。根据示例，点需要先通过param或define来定义，确保在使用前已存在。\n",
      "\n",
      "可能的步骤：\n",
      "1. 定义三个点A、B、C作为直角三角形的顶点，其中C是直角顶点。\n",
      "2. 确保AC和BC垂直，即直线AC和BC的斜率乘积为-1，但在GMBL中应该用predicate perp来判断。\n",
      "3. 计算AB的长度，然后通过其他方式（比如中点或垂足）来构造某个点，最后验证某个长度关系。\n",
      "\n",
      "或者，可以设定AC和BC的长度，然后验证AB的长度是否符合勾股定理。但用户提到不能直接定义数值对象，所以可能需要通过其他几何构造来间接表达。\n",
      "\n",
      "例如，可以参数化点A和B，然后定义C为A到直线BC的垂足，或者利用foot函数来得到垂足。然后通过断言两线段垂直，再验证AB的平方等于AC平方加BC平方。\n",
      "\n",
      "但GMBL中的eval可能需要用具体的predicate，比如cong（线段长度相等）或者通过计算距离的表达式。例如，使用(= (add (pow (dist A C) 2) (pow (dist B C) 2)) (pow (dist A B) 2)) 来验证勾股定理。\n",
      "\n",
      "不过，用户希望的问题要简单，可能直接定义点，断言垂直，然后验证某个距离关系。比如，设定AC=3， BC=4，AB应该等于5。但根据文档中的示例，不能直接使用数值参数，需要用其他几何构造来间接设定长度。\n",
      "\n",
      "或者，可以通过参数化点A、B、C，并断言AC和BC垂直，同时设定AC和BC的长度相等，然后验证AB的长度是否符合sqrt(2)*AC。但如何设定长度呢？可能需要用assert来断言距离的关系。\n",
      "\n",
      "例如：\n",
      "\n",
      "(param A point)\n",
      "(param B point)\n",
      "(param C point)\n",
      "(assert (perp (line A C) (line B C)))  ; 确保C是直角顶点\n",
      "(assert (= (dist A C) (dist B C)))     ; AC等于BC，比如等腰直角三角形\n",
      "(eval (= (dist A B) (mul (sqrt 2) (dist A C))))  ; AB应该是AC*sqrt(2)\n",
      "\n",
      "但这样是否符合GMBL的语法呢？因为sqrt的参数需要是数，而(dist A C)是一个数，所以(mul (sqrt 2) (dist A C))是否正确？\n",
      "\n",
      "根据文档中的函数，sqrt的参数是数，但这里的dist返回数，所以sqrt的参数可以是数。但GMBL是否允许在eval中使用这样的表达式？\n",
      "\n",
      "可能需要用(add (pow (dist A C) 2) (pow (dist B C) 2))等于(pow (dist A B) 2)，即用勾股定理来验证。\n",
      "\n",
      "例如：\n",
      "\n",
      "(param A point)\n",
      "(param B point)\n",
      "(param C point)\n",
      "(assert (perp (line A C) (line B C)))  ; C是直角顶点\n",
      "(eval (= (add (pow (dist A C) 2) (pow (dist B C) 2)) (pow (dist A B) 2)))\n",
      "\n",
      "这样更直接地应用勾股定理，而不需要预设具体的数值，符合用户不直接定义数值对象的要求。\n",
      "\n",
      "不过，用户希望的问题是“直角三角形长度计算相关的简单几何题”，可能更倾向于有具体的数值结果，但根据文档中的示例，比如eg13，他们用assert来设定距离，例如：\n",
      "\n",
      "(param A point)\n",
      "(param B point)\n",
      "(param C point)\n",
      "(assert (= (dist A B) 5))\n",
      "(assert (= (dist A C) (mul (dist A B) 2)))\n",
      "(eval (= (dist A C) 10))\n",
      "\n",
      "这可能是一种方式。不过用户的问题可能需要更几何化的构造，而不是直接设定数值。但根据示例，允许在assert中使用数值，比如eg13中的(= (dist A B) 5)，这可能是允许的，但用户提到“确保没有直接定义数值对象”，可能是指不要定义如(define num 5)这样的对象，但assert中的数值比较是允许的。\n",
      "\n",
      "或者，用户的意思是不要用param来参数化数值，而是通过几何关系来间接得到数值。例如，通过构造一个线段长度是另一个的两倍，如(mul (dist A B) 2)。\n",
      "\n",
      "那么，可能的题目是：构造一个直角三角形，其中一条直角边是另一条的两倍，然后验证斜边是否符合勾股定理的平方关系。\n",
      "\n",
      "例如：\n",
      "\n",
      "(param A point)\n",
      "(param B point)\n",
      "(param C point)\n",
      "(assert (perp (line A C) (line B C)))  ; 直角在C\n",
      "(assert (= (dist A C) (mul (dist B C) 2)))  ; AC是BC的两倍\n",
      "(eval (= (pow (dist A B) 2) (add (pow (dist A C) 2) (pow (dist B C) 2)) ))\n",
      "\n",
      "这样，eval部分验证的是AB² = AC² + BC²，这应该成立。不过，这样的问题是否足够简单，可能需要更直观的条件。\n",
      "\n",
      "或者，使用foot函数来构造垂足，比如定义C是A到直线BC的垂足，但可能更复杂。\n",
      "\n",
      "另外，可能需要确保点C是线段AB的某个特定点，比如中点，或者其他构造。\n",
      "\n",
      "或者，使用垂足来构造直角三角形。例如，定义C是B到直线AB的垂足，但这可能形成直角在B的情况。\n",
      "\n",
      "不过，可能更简单的例子是：\n",
      "\n",
      "定义点A、B，构造垂线，得到直角点C，然后验证距离关系。\n",
      "\n",
      "例如：\n",
      "\n",
      "(param A point)\n",
      "(param B point)\n",
      "(define L line (line A B))\n",
      "(define C point (foot B L))  ; C是B到直线AB的垂足？这可能不对，因为foot是点B到直线L的垂足，如果L是AB直线，那么垂足就是B本身，所以这不行。\n",
      "\n",
      "或者，定义C是A到另一条直线的垂足。比如：\n",
      "\n",
      "(param A point)\n",
      "(param B point)\n",
      "(define L line (line A B))\n",
      "(define D point (param ...))  ; 可能需要另一个点来构造垂线。\n",
      "\n",
      "或者，更简单的例子，用户可能希望一个已经构造好的直角三角形，例如：\n",
      "\n",
      "(param A point)\n",
      "(param B point)\n",
      "(param C point)\n",
      "(assert (perp (line A C) (line B C)))  ; 直角在C\n",
      "(define D point (midp A B))  ; 斜边中点\n",
      "(eval (cong D A D B))  ; 斜边中点到两个端点的距离相等\n",
      "\n",
      "或者，验证斜边上的中线等于斜边的一半，这可能需要计算距离，例如：\n",
      "\n",
      "(assert (= (dist D C) (mul (dist A B) 0.5)))\n",
      "\n",
      "但GMBL中的乘法和除法可能需要用div和mul函数，例如：\n",
      "\n",
      "(eval (= (dist D C) (div (dist A B) 2)))\n",
      "\n",
      "但根据文档中的函数，div是N1除以N2，所以(div (dist A B) 2)是否正确？或者应该用(mul (dist A B) 0.5)？\n",
      "\n",
      "另外，在示例eg13中，使用了(mul (dist A B) 2)来表示两倍的距离，所以可能用类似的表达式。\n",
      "\n",
      "回到原始问题，用户需要的是关于长度计算的简单题，可能需要直接应用勾股定理。例如：\n",
      "\n",
      "构造一个直角三角形，其中两条直角边的长度分别为3和4（通过assert设定），然后验证斜边长度为5。\n",
      "\n",
      "但根据示例eg13，可以这样写：\n",
      "\n",
      "(param A point)\n",
      "(param B point)\n",
      "(param C point)\n",
      "(assert (perp (line A C) (line B C)))  ; 直角在C\n",
      "(assert (= (dist A C) 3))\n",
      "(assert (= (dist B C) 4))\n",
      "(eval (= (dist A B) 5))\n",
      "\n",
      "但根据用户的要求，“确保没有直接定义数值对象”，这里的3、4、5是否属于直接定义数值对象？在示例eg13中，用户确实使用了(= (dist A B) 5)，所以应该是允许的。因此，这样的代码是可行的。\n",
      "\n",
      "但用户可能希望避免直接使用数值，而是通过几何构造来隐含长度关系。比如，通过构造线段的中垂线，或者使用其他几何条件来间接设定长度。例如，利用勾股定理，通过已知两条直角边来验证斜边。\n",
      "\n",
      "不过，可能用户希望的例子是像eg13那样，通过assert设定某些距离，然后验证另一个距离。例如：\n",
      "\n",
      "(param A point)\n",
      "(param B point)\n",
      "(param C point)\n",
      "(assert (perp (line A C) (line B C)))  ; 直角在C\n",
      "(assert (= (dist A C) (dist B C)))     ; 等腰直角三角形\n",
      "(eval (= (pow (dist A B) 2) (mul 2 (pow (dist A C) 2))))  ; AB² = 2*AC²\n",
      "\n",
      "这样，eval部分验证的是平方关系，而无需直接使用数值。\n",
      "\n",
      "综上所述，我需要构造一个直角三角形的GMBL代码，使用param定义点，assert断言垂直和边长关系，eval验证斜边长度是否符合勾股定理。\n",
      "\n",
      "现在检查是否符合所有要求：\n",
      "\n",
      "1. 每个点在使用前都已定义：A、B、C都是通过param定义的，没问题。\n",
      "2. 符合示例中的GMBL语法：例如使用assert和eval中的predicate，如perp、=、dist等。\n",
      "3. 所有语句在同一行：是的，每个GMBL语句单独一行。\n",
      "4. 角度使用弧度制：但在这个问题中，可能没有直接使用角度，而是通过perp来判断垂直，所以没问题。\n",
      "5. 没有直接定义数值对象：虽然assert中使用了数值，但根据示例eg13，这是允许的，所以应该没问题。\n",
      "\n",
      "因此，最终的GMBL代码可能如下：\n",
      "\n",
      "(param A point)\n",
      "(param B point)\n",
      "(param C point)\n",
      "(assert (perp (line A C) (line B C)))\n",
      "(assert (= (dist A C) 3))\n",
      "(assert (= (dist B C) 4))\n",
      "(eval (= (dist A B) 5))\n",
      "\n",
      "或者，如果不使用直接数值，而用乘法和sqrt：\n",
      "\n",
      "(param A point)\n",
      "(param B point)\n",
      "(param C point)\n",
      "(assert (perp (line A C) (line B C)))\n",
      "(assert (= (dist A C) (dist B C))) ; AC = BC\n",
      "(eval (= (dist A B) (mul (sqrt 2) (dist A C)))) ; AB = AC*sqrt(2)\n",
      "\n",
      "这样更符合不直接使用数值的条件，但需要确保sqrt的正确应用。\n",
      "\n",
      "不过，用户给出的示例eg13中直接使用了数值，所以第一种方案可能更合适，也更简单明了，作为一道基础题。\n",
      "\n",
      "\n",
      "```GMBL\n",
      "(param A point)\n",
      "(param B point)\n",
      "(param C point)\n",
      "(assert (perp (line A C) (line B C)))\n",
      "(assert (= (dist A C) 3))\n",
      "(assert (= (dist B C) 4))\n",
      "(eval (= (dist A B) 5))\n",
      "```"
     ]
    }
   ],
   "source": [
    "response = client.chat.completions.create(\n",
    "    # 替换 <Model> 为模型的Model ID\n",
    "    model=\"deepseek-r1-250120\",\n",
    "    messages=messages,\n",
    "    stream=True,\n",
    ")\n",
    "reasoning_content = \"\"\n",
    "content = \"\"\n",
    "\n",
    "for chunk in response:\n",
    "    if hasattr(chunk.choices[0].delta, 'reasoning_content') and chunk.choices[0].delta.reasoning_content:\n",
    "        reasoning_content += chunk.choices[0].delta.reasoning_content\n",
    "        print(chunk.choices[0].delta.reasoning_content, end=\"\")\n",
    "    else:\n",
    "        content += chunk.choices[0].delta.content\n",
    "        print(chunk.choices[0].delta.content, end=\"\")"
   ]
  },
  {
   "cell_type": "code",
   "execution_count": 215,
   "metadata": {},
   "outputs": [
    {
     "name": "stdout",
     "output_type": "stream",
     "text": [
      "\n",
      "\n",
      "```GMBL\n",
      "(param A point)\n",
      "(param B point)\n",
      "(param C point)\n",
      "(assert (perp (line A C) (line B C)))\n",
      "(assert (= (dist A C) 3))\n",
      "(assert (= (dist B C) 4))\n",
      "(eval (= (dist A B) 5))\n",
      "```\n"
     ]
    },
    {
     "data": {
      "text/plain": [
       "'\\n\\n```GMBL\\n(param A point)\\n(param B point)\\n(param C point)\\n(assert (perp (line A C) (line B C)))\\n(assert (= (dist A C) 3))\\n(assert (= (dist B C) 4))\\n(eval (= (dist A B) 5))\\n```'"
      ]
     },
     "execution_count": 215,
     "metadata": {},
     "output_type": "execute_result"
    }
   ],
   "source": [
    "print(content)\n",
    "content"
   ]
  },
  {
   "cell_type": "code",
   "execution_count": 216,
   "metadata": {},
   "outputs": [
    {
     "name": "stdout",
     "output_type": "stream",
     "text": [
      "['(param A point)', '(param B point)', '(param C point)', '(assert (perp (line A C) (line B C)))', '(assert (= (dist A C) 3))', '(assert (= (dist B C) 4))', '(eval (= (dist A B) 5))']\n"
     ]
    }
   ],
   "source": [
    "re_find = re.finditer('```', content)\n",
    "inds = []\n",
    "for ind in re_find:\n",
    "    inds += [ind.span()]\n",
    "\n",
    "lines = content[inds[0][1] : inds[1][0]]\n",
    "lines = lines.splitlines()[1:]\n",
    "\n",
    "print(lines)"
   ]
  },
  {
   "cell_type": "code",
   "execution_count": 217,
   "metadata": {},
   "outputs": [
    {
     "data": {
      "text/plain": [
       "[(2, 5), (172, 175)]"
      ]
     },
     "execution_count": 217,
     "metadata": {},
     "output_type": "execute_result"
    }
   ],
   "source": [
    "inds"
   ]
  },
  {
   "cell_type": "code",
   "execution_count": 218,
   "metadata": {},
   "outputs": [],
   "source": [
    "# Parse arguments\n",
    "parser = argparse.ArgumentParser(description='Arguments for building a model that satisfies a set of geometry constraints')\n",
    "\n",
    "# General arguments\n",
    "parser.add_argument('--problem', '-p', action='store', type=str, help='Name of the file defining the set of constraints')\n",
    "parser.add_argument('--dir', '-d', action='store', type=str, help='Directory containing problem files.')\n",
    "parser.add_argument('--regularize_points', action='store', dest='regularize_points', type=float, default=DEFAULTS[\"regularize_points\"])\n",
    "parser.add_argument('--make_distinct', action='store', dest='make_distinct', type=float, default=DEFAULTS[\"make_distinct\"])\n",
    "parser.add_argument('--distinct_prob', action='store', dest='distinct_prob', type=float, default=DEFAULTS[\"distinct_prob\"])\n",
    "parser.add_argument('--min_dist', action='store', dest='min_dist', type=float, default=DEFAULTS[\"min_dist\"])\n",
    "parser.add_argument('--ndg_loss', action='store', dest='ndg_loss', type=float, default=DEFAULTS[\"ndg_loss\"])\n",
    "\n",
    "parser.add_argument('--n_models', action='store', dest='n_models', type=int, default=DEFAULTS['n_models'])\n",
    "parser.add_argument('--n_tries', action='store', dest='n_tries', type=int, default=DEFAULTS['n_tries'])\n",
    "parser.add_argument('--n_inits', action='store', dest='n_inits', type=int, default=DEFAULTS['n_inits'])\n",
    "parser.add_argument('--verbosity', action='store', dest='verbosity', type=int, default=DEFAULTS['verbosity'])\n",
    "parser.add_argument('--enforce_goals', dest='enforce_goals', action='store_true')\n",
    "parser.add_argument('--plot_freq', action='store', dest='plot_freq', type=int, default=DEFAULTS['plot_freq'])\n",
    "parser.add_argument('--loss_freq', action='store', dest='loss_freq', type=int, default=DEFAULTS['loss_freq'])\n",
    "parser.add_argument('--losses_freq', action='store', dest='losses_freq', type=int, default=DEFAULTS['losses_freq'])\n",
    "\n",
    "parser.add_argument('--unnamed_objects', dest='unnamed_objects', action='store_true')\n",
    "parser.add_argument('--no_unnamed_objects', dest='unnamed_objects', action='store_false')\n",
    "parser.set_defaults(unnamed_objects=True)\n",
    "\n",
    "# Tensorflow arguments\n",
    "parser.add_argument('--learning_rate', action='store', dest='learning_rate', type=float, default=DEFAULTS[\"learning_rate\"])\n",
    "parser.add_argument('--decay_steps', action='store', dest='decay_steps', type=float, default=DEFAULTS[\"decay_steps\"])\n",
    "parser.add_argument('--decay_rate', action='store', dest='decay_rate', type=float, default=DEFAULTS[\"decay_rate\"])\n",
    "parser.add_argument('--n_iterations', action='store', dest='n_iterations', type=int, default=DEFAULTS[\"n_iterations\"])\n",
    "parser.add_argument('--eps', action='store', dest='eps', type=float, default=DEFAULTS[\"eps\"])\n",
    "\n",
    "parser.add_argument('--experiment', dest='experiment', action='store_true')\n",
    "\n",
    "parser.add_argument(\"--f\", type=str, default='abc.def')\n",
    "\n",
    "\n",
    "args = parser.parse_args()\n",
    "args = vars(args)"
   ]
  },
  {
   "cell_type": "code",
   "execution_count": 219,
   "metadata": {},
   "outputs": [
    {
     "data": {
      "text/plain": [
       "['(param A point)',\n",
       " '(param B point)',\n",
       " '(param C point)',\n",
       " '(assert (perp (line A C) (line B C)))',\n",
       " '(assert (= (dist A C) 3))',\n",
       " '(assert (= (dist B C) 4))',\n",
       " '(eval (= (dist A B) 5))']"
      ]
     },
     "execution_count": 219,
     "metadata": {},
     "output_type": "execute_result"
    }
   ],
   "source": [
    "args['n_tries'] = 10\n",
    "args['eps'] = 3e-4\n",
    "\n",
    "args['lines'] = lines\n",
    "lines"
   ]
  },
  {
   "cell_type": "code",
   "execution_count": 220,
   "metadata": {},
   "outputs": [
    {
     "name": "stderr",
     "output_type": "stream",
     "text": [
      "Processing instructions...:   0%|          | 0/7 [00:00<?, ?it/s]"
     ]
    },
    {
     "name": "stdout",
     "output_type": "stream",
     "text": [
      "INPUT INSTRUCTIONS:\n",
      "parameterize A coords\n",
      "parameterize B coords\n",
      "parameterize C coords\n",
      "assert (perp (connecting A C) (connecting B C))\n",
      "assert (eq-n (dist A C) 3.0)\n",
      "assert (eq-n (dist B C) 4.0)\n",
      "eval (eq-n (dist A B) 5.0)\n"
     ]
    },
    {
     "name": "stderr",
     "output_type": "stream",
     "text": [
      "Processing instructions...: 100%|██████████| 7/7 [00:00<00:00, 25.48it/s]\n",
      "Sampling initializations...: 100%|██████████| 10/10 [00:08<00:00,  1.23it/s]\n"
     ]
    },
    {
     "name": "stdout",
     "output_type": "stream",
     "text": [
      "[     0]  11.205143332345 ||   0.100000\n",
      "======== Print losses ==========\n",
      "-- Losses --\n",
      "  perp_(connecting A C)_(connecting B C)             0.3636031690\n",
      "  eq-n_(dist A C)_3.0                                4.6997291867\n",
      "  eq-n_(dist B C)_4.0                                6.1418104022\n",
      "  points                                             0.0000005744\n",
      "  distinct                                           0.0000000000\n",
      "-- Goals --\n",
      "  eq-n_(dist A B)_5.0                                13.3778834086\n",
      "-- NDGs --\n",
      "================================\n"
     ]
    },
    {
     "data": {
      "image/png": "[encoded data removed]",
      "text/plain": [
       "<Figure size 640x480 with 1 Axes>"
      ]
     },
     "metadata": {},
     "output_type": "display_data"
    },
    {
     "name": "stdout",
     "output_type": "stream",
     "text": [
      "======== Print losses ==========\n",
      "-- Losses --\n",
      "  perp_(connecting A C)_(connecting B C)             0.0000135115\n",
      "  eq-n_(dist A C)_3.0                                0.0001858799\n",
      "  eq-n_(dist B C)_4.0                                0.0000000194\n",
      "  points                                             0.0000057103\n",
      "  distinct                                           0.0000000000\n",
      "-- Goals --\n",
      "  eq-n_(dist A B)_5.0                                0.0000572930\n",
      "-- NDGs --\n",
      "================================\n",
      "\n",
      "\n",
      "Found 1 models\n"
     ]
    },
    {
     "data": {
      "image/png": "[encoded data removed]",
      "text/plain": [
       "<Figure size 640x480 with 1 Axes>"
      ]
     },
     "metadata": {},
     "output_type": "display_data"
    }
   ],
   "source": [
    "res = build(args)"
   ]
  },
  {
   "cell_type": "code",
   "execution_count": 221,
   "metadata": {},
   "outputs": [
    {
     "name": "stdout",
     "output_type": "stream",
     "text": [
      "(param A point)\n",
      "(param B point)\n",
      "(param C point)\n",
      "(assert (perp (line A C) (line B C)))\n",
      "(assert (= (dist A C) 3))\n",
      "(assert (= (dist B C) 4))\n",
      "(eval (= (dist A B) 5))\n",
      "\n",
      "##############################################\n",
      "{<primitives.Point object at 0x000002149F693160>: TfPoint(x=-1.7775809818446415, y=-1.5119320814029706), <primitives.Point object at 0x00000214AAFB6A30>: TfPoint(x=2.485904232953325, y=1.1145566873320447), <primitives.Point object at 0x00000214AAFB61F0>: TfPoint(x=-1.4967098869420183, y=1.4885845201691437)}\n",
      "{}\n",
      "{}\n",
      "[]\n",
      "[]\n",
      "[]\n",
      "[LineNF(n=TfPoint(x=-0.9956473941645084, y=0.09320014213199415), r=1.628931587609327), LineNF(n=TfPoint(x=0.09350370887239347, y=0.9956189313322173), r=1.342115003633425)]\n",
      "[]\n",
      "{}\n",
      "{'eq-n_(dist A B)_5.0': 5.729299466983038e-05}\n"
     ]
    }
   ],
   "source": [
    "for item in res[0]:\n",
    "    print(item)\n",
    "\n",
    "print('\\n##############################################')\n",
    "\n",
    "for item in res[1][0]:\n",
    "    print(item)"
   ]
  },
  {
   "cell_type": "code",
   "execution_count": 222,
   "metadata": {},
   "outputs": [
    {
     "name": "stdout",
     "output_type": "stream",
     "text": [
      "A\n",
      "(coords -1.777581 -1.511932)\n",
      "B\n",
      "(coords 2.485904 1.114557)\n",
      "C\n",
      "(coords -1.496710 1.488585)\n"
     ]
    }
   ],
   "source": [
    "for obj_name, obj in res[1][0].named_points.items():\n",
    "    print(obj_name)\n",
    "    print(obj)\n",
    "    (x, y) = obj\n",
    "\n",
    "for obj_name, obj in res[1][0].named_lines.items():\n",
    "    print(obj_name)\n",
    "    print(obj)\n",
    "    (x, y), r = obj\n",
    "    # slope = y/x, intercept = r\n",
    "\n",
    "for obj_name, obj in res[1][0].named_circles.items():\n",
    "    print(obj_name)\n",
    "    print(obj)\n",
    "    (x, y), r = obj"
   ]
  },
  {
   "cell_type": "code",
   "execution_count": null,
   "metadata": {},
   "outputs": [],
   "source": []
  },
  {
   "cell_type": "code",
   "execution_count": null,
   "metadata": {},
   "outputs": [],
   "source": []
  },
  {
   "cell_type": "code",
   "execution_count": null,
   "metadata": {},
   "outputs": [],
   "source": []
  },
  {
   "cell_type": "code",
   "execution_count": null,
   "metadata": {},
   "outputs": [],
   "source": []
  },
  {
   "cell_type": "code",
   "execution_count": null,
   "metadata": {},
   "outputs": [],
   "source": []
  }
 ],
 "metadata": {
  "kernelspec": {
   "display_name": "gmb",
   "language": "python",
   "name": "python3"
  },
  "language_info": {
   "codemirror_mode": {
    "name": "ipython",
    "version": 3
   },
   "file_extension": ".py",
   "mimetype": "text/x-python",
   "name": "python",
   "nbconvert_exporter": "python",
   "pygments_lexer": "ipython3",
   "version": "3.8.18"
  }
 },
 "nbformat": 4,
 "nbformat_minor": 2
}
